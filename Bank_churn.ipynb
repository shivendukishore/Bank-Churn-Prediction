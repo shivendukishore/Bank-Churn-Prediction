{
 "cells": [
  {
   "cell_type": "markdown",
   "id": "0632f896",
   "metadata": {},
   "source": [
    "# PROBLEM STATEMENT: BANK CUSTOMER CHURN PREDICTION"
   ]
  },
  {
   "cell_type": "markdown",
   "id": "da6b8645",
   "metadata": {},
   "source": [
    "### The dataset on bank customer churn is widely employed to forecast customer churning or exiting within the banking sector. It encompasses details about customers who have either departed from the bank or are currently active customers."
   ]
  },
  {
   "cell_type": "code",
   "execution_count": 1,
   "id": "56d66734",
   "metadata": {},
   "outputs": [],
   "source": [
    "import pandas as pd\n",
    "import numpy as np\n",
    "import matplotlib.pyplot as plt\n",
    "import seaborn as sns\n",
    "import matplotlib.colors as mcolors\n",
    "import plotly.graph_objects as go\n",
    "import warnings\n",
    "import os\n",
    "import sys\n",
    "import xgboost as xgb\n",
    "\n",
    "\n",
    "from sklearn.model_selection import RepeatedStratifiedKFold\n",
    "from sklearn.model_selection import StratifiedKFold\n",
    "from sklearn.model_selection import KFold\n",
    "\n",
    "from sklearn.model_selection import cross_val_score\n",
    "from sklearn.metrics import log_loss\n",
    "from sklearn.metrics import roc_auc_score\n",
    "\n",
    "from sklearn.utils import resample\n",
    "from sklearn.base import BaseEstimator, TransformerMixin\n",
    "from sklearn.pipeline import make_pipeline, Pipeline"
   ]
  },
  {
   "cell_type": "code",
   "execution_count": 2,
   "id": "cc9b8bb6",
   "metadata": {},
   "outputs": [],
   "source": [
    "train_syn=pd.read_csv(r\"C:\\Users\\kisho\\OneDrive\\Documents\\Project Dataset\\train.csv\")\n",
    "test=pd.read_csv(r\"C:\\Users\\kisho\\OneDrive\\Documents\\Project Dataset\\test.csv\")\n",
    "train_org=pd.read_csv(r\"C:\\Users\\kisho\\OneDrive\\Documents\\Project Dataset\\Churn_Modelling.csv\")\n",
    "sub=pd.read_csv(r\"C:\\Users\\kisho\\OneDrive\\Documents\\Project Dataset\\sample_submission.csv\")"
   ]
  },
  {
   "cell_type": "code",
   "execution_count": 3,
   "id": "a900472c",
   "metadata": {},
   "outputs": [
    {
     "data": {
      "text/html": [
       "<div>\n",
       "<style scoped>\n",
       "    .dataframe tbody tr th:only-of-type {\n",
       "        vertical-align: middle;\n",
       "    }\n",
       "\n",
       "    .dataframe tbody tr th {\n",
       "        vertical-align: top;\n",
       "    }\n",
       "\n",
       "    .dataframe thead th {\n",
       "        text-align: right;\n",
       "    }\n",
       "</style>\n",
       "<table border=\"1\" class=\"dataframe\">\n",
       "  <thead>\n",
       "    <tr style=\"text-align: right;\">\n",
       "      <th></th>\n",
       "      <th>id</th>\n",
       "      <th>CustomerId</th>\n",
       "      <th>Surname</th>\n",
       "      <th>CreditScore</th>\n",
       "      <th>Geography</th>\n",
       "      <th>Gender</th>\n",
       "      <th>Age</th>\n",
       "      <th>Tenure</th>\n",
       "      <th>Balance</th>\n",
       "      <th>NumOfProducts</th>\n",
       "      <th>HasCrCard</th>\n",
       "      <th>IsActiveMember</th>\n",
       "      <th>EstimatedSalary</th>\n",
       "      <th>Exited</th>\n",
       "    </tr>\n",
       "  </thead>\n",
       "  <tbody>\n",
       "    <tr>\n",
       "      <th>0</th>\n",
       "      <td>0</td>\n",
       "      <td>15674932</td>\n",
       "      <td>Okwudilichukwu</td>\n",
       "      <td>668</td>\n",
       "      <td>France</td>\n",
       "      <td>Male</td>\n",
       "      <td>33.0</td>\n",
       "      <td>3</td>\n",
       "      <td>0.00</td>\n",
       "      <td>2</td>\n",
       "      <td>1.0</td>\n",
       "      <td>0.0</td>\n",
       "      <td>181449.97</td>\n",
       "      <td>0</td>\n",
       "    </tr>\n",
       "    <tr>\n",
       "      <th>1</th>\n",
       "      <td>1</td>\n",
       "      <td>15749177</td>\n",
       "      <td>Okwudiliolisa</td>\n",
       "      <td>627</td>\n",
       "      <td>France</td>\n",
       "      <td>Male</td>\n",
       "      <td>33.0</td>\n",
       "      <td>1</td>\n",
       "      <td>0.00</td>\n",
       "      <td>2</td>\n",
       "      <td>1.0</td>\n",
       "      <td>1.0</td>\n",
       "      <td>49503.50</td>\n",
       "      <td>0</td>\n",
       "    </tr>\n",
       "    <tr>\n",
       "      <th>2</th>\n",
       "      <td>2</td>\n",
       "      <td>15694510</td>\n",
       "      <td>Hsueh</td>\n",
       "      <td>678</td>\n",
       "      <td>France</td>\n",
       "      <td>Male</td>\n",
       "      <td>40.0</td>\n",
       "      <td>10</td>\n",
       "      <td>0.00</td>\n",
       "      <td>2</td>\n",
       "      <td>1.0</td>\n",
       "      <td>0.0</td>\n",
       "      <td>184866.69</td>\n",
       "      <td>0</td>\n",
       "    </tr>\n",
       "    <tr>\n",
       "      <th>3</th>\n",
       "      <td>3</td>\n",
       "      <td>15741417</td>\n",
       "      <td>Kao</td>\n",
       "      <td>581</td>\n",
       "      <td>France</td>\n",
       "      <td>Male</td>\n",
       "      <td>34.0</td>\n",
       "      <td>2</td>\n",
       "      <td>148882.54</td>\n",
       "      <td>1</td>\n",
       "      <td>1.0</td>\n",
       "      <td>1.0</td>\n",
       "      <td>84560.88</td>\n",
       "      <td>0</td>\n",
       "    </tr>\n",
       "    <tr>\n",
       "      <th>4</th>\n",
       "      <td>4</td>\n",
       "      <td>15766172</td>\n",
       "      <td>Chiemenam</td>\n",
       "      <td>716</td>\n",
       "      <td>Spain</td>\n",
       "      <td>Male</td>\n",
       "      <td>33.0</td>\n",
       "      <td>5</td>\n",
       "      <td>0.00</td>\n",
       "      <td>2</td>\n",
       "      <td>1.0</td>\n",
       "      <td>1.0</td>\n",
       "      <td>15068.83</td>\n",
       "      <td>0</td>\n",
       "    </tr>\n",
       "  </tbody>\n",
       "</table>\n",
       "</div>"
      ],
      "text/plain": [
       "   id  CustomerId         Surname  CreditScore Geography Gender   Age  Tenure  \\\n",
       "0   0    15674932  Okwudilichukwu          668    France   Male  33.0       3   \n",
       "1   1    15749177   Okwudiliolisa          627    France   Male  33.0       1   \n",
       "2   2    15694510           Hsueh          678    France   Male  40.0      10   \n",
       "3   3    15741417             Kao          581    France   Male  34.0       2   \n",
       "4   4    15766172       Chiemenam          716     Spain   Male  33.0       5   \n",
       "\n",
       "     Balance  NumOfProducts  HasCrCard  IsActiveMember  EstimatedSalary  \\\n",
       "0       0.00              2        1.0             0.0        181449.97   \n",
       "1       0.00              2        1.0             1.0         49503.50   \n",
       "2       0.00              2        1.0             0.0        184866.69   \n",
       "3  148882.54              1        1.0             1.0         84560.88   \n",
       "4       0.00              2        1.0             1.0         15068.83   \n",
       "\n",
       "   Exited  \n",
       "0       0  \n",
       "1       0  \n",
       "2       0  \n",
       "3       0  \n",
       "4       0  "
      ]
     },
     "execution_count": 3,
     "metadata": {},
     "output_type": "execute_result"
    }
   ],
   "source": [
    "train_syn.head()"
   ]
  },
  {
   "cell_type": "markdown",
   "id": "8c94cb75",
   "metadata": {},
   "source": [
    "### Data Exploration: "
   ]
  },
  {
   "cell_type": "markdown",
   "id": "55683029",
   "metadata": {},
   "source": [
    "Customer ID: A unique identifier for each customer\n",
    "\n",
    "Surname: The customer's surname or last name\n",
    "\n",
    "Credit Score: A numerical value representing the customer's credit score\n",
    "\n",
    "Geography: The country where the customer resides\n",
    "\n",
    "Gender: The customer's gender\n",
    "\n",
    "Age: The customer's age.\n",
    "\n",
    "Tenure: The number of years the customer has been with the bank\n",
    "\n",
    "Balance: The customer's account balance\n",
    "\n",
    "NumOfProducts: The number of bank products the customer uses (e.g., savings account, credit card)\n",
    "\n",
    "HasCrCard: Whether the customer has a credit card\n",
    "\n",
    "IsActiveMember: Whether the customer is an active member\n",
    "\n",
    "EstimatedSalary: The estimated salary of the customer\n",
    "\n",
    "Exited: Whether the customer has churned (Target Variable)"
   ]
  },
  {
   "cell_type": "code",
   "execution_count": 4,
   "id": "5a8926e1",
   "metadata": {},
   "outputs": [
    {
     "name": "stdout",
     "output_type": "stream",
     "text": [
      "<class 'pandas.core.frame.DataFrame'>\n",
      "RangeIndex: 165034 entries, 0 to 165033\n",
      "Data columns (total 14 columns):\n",
      " #   Column           Non-Null Count   Dtype  \n",
      "---  ------           --------------   -----  \n",
      " 0   id               165034 non-null  int64  \n",
      " 1   CustomerId       165034 non-null  int64  \n",
      " 2   Surname          165034 non-null  object \n",
      " 3   CreditScore      165034 non-null  int64  \n",
      " 4   Geography        165034 non-null  object \n",
      " 5   Gender           165034 non-null  object \n",
      " 6   Age              165034 non-null  float64\n",
      " 7   Tenure           165034 non-null  int64  \n",
      " 8   Balance          165034 non-null  float64\n",
      " 9   NumOfProducts    165034 non-null  int64  \n",
      " 10  HasCrCard        165034 non-null  float64\n",
      " 11  IsActiveMember   165034 non-null  float64\n",
      " 12  EstimatedSalary  165034 non-null  float64\n",
      " 13  Exited           165034 non-null  int64  \n",
      "dtypes: float64(5), int64(6), object(3)\n",
      "memory usage: 17.6+ MB\n"
     ]
    }
   ],
   "source": [
    "train_syn.info()"
   ]
  },
  {
   "cell_type": "code",
   "execution_count": 5,
   "id": "14ac801d",
   "metadata": {},
   "outputs": [
    {
     "data": {
      "text/html": [
       "<div>\n",
       "<style scoped>\n",
       "    .dataframe tbody tr th:only-of-type {\n",
       "        vertical-align: middle;\n",
       "    }\n",
       "\n",
       "    .dataframe tbody tr th {\n",
       "        vertical-align: top;\n",
       "    }\n",
       "\n",
       "    .dataframe thead th {\n",
       "        text-align: right;\n",
       "    }\n",
       "</style>\n",
       "<table border=\"1\" class=\"dataframe\">\n",
       "  <thead>\n",
       "    <tr style=\"text-align: right;\">\n",
       "      <th></th>\n",
       "      <th>RowNumber</th>\n",
       "      <th>CustomerId</th>\n",
       "      <th>Surname</th>\n",
       "      <th>CreditScore</th>\n",
       "      <th>Geography</th>\n",
       "      <th>Gender</th>\n",
       "      <th>Age</th>\n",
       "      <th>Tenure</th>\n",
       "      <th>Balance</th>\n",
       "      <th>NumOfProducts</th>\n",
       "      <th>HasCrCard</th>\n",
       "      <th>IsActiveMember</th>\n",
       "      <th>EstimatedSalary</th>\n",
       "      <th>Exited</th>\n",
       "    </tr>\n",
       "  </thead>\n",
       "  <tbody>\n",
       "    <tr>\n",
       "      <th>0</th>\n",
       "      <td>1</td>\n",
       "      <td>15634602</td>\n",
       "      <td>Hargrave</td>\n",
       "      <td>619</td>\n",
       "      <td>France</td>\n",
       "      <td>Female</td>\n",
       "      <td>42</td>\n",
       "      <td>2</td>\n",
       "      <td>0.00</td>\n",
       "      <td>1</td>\n",
       "      <td>1</td>\n",
       "      <td>1</td>\n",
       "      <td>101348.88</td>\n",
       "      <td>1</td>\n",
       "    </tr>\n",
       "    <tr>\n",
       "      <th>1</th>\n",
       "      <td>2</td>\n",
       "      <td>15647311</td>\n",
       "      <td>Hill</td>\n",
       "      <td>608</td>\n",
       "      <td>Spain</td>\n",
       "      <td>Female</td>\n",
       "      <td>41</td>\n",
       "      <td>1</td>\n",
       "      <td>83807.86</td>\n",
       "      <td>1</td>\n",
       "      <td>0</td>\n",
       "      <td>1</td>\n",
       "      <td>112542.58</td>\n",
       "      <td>0</td>\n",
       "    </tr>\n",
       "    <tr>\n",
       "      <th>2</th>\n",
       "      <td>3</td>\n",
       "      <td>15619304</td>\n",
       "      <td>Onio</td>\n",
       "      <td>502</td>\n",
       "      <td>France</td>\n",
       "      <td>Female</td>\n",
       "      <td>42</td>\n",
       "      <td>8</td>\n",
       "      <td>159660.80</td>\n",
       "      <td>3</td>\n",
       "      <td>1</td>\n",
       "      <td>0</td>\n",
       "      <td>113931.57</td>\n",
       "      <td>1</td>\n",
       "    </tr>\n",
       "    <tr>\n",
       "      <th>3</th>\n",
       "      <td>4</td>\n",
       "      <td>15701354</td>\n",
       "      <td>Boni</td>\n",
       "      <td>699</td>\n",
       "      <td>France</td>\n",
       "      <td>Female</td>\n",
       "      <td>39</td>\n",
       "      <td>1</td>\n",
       "      <td>0.00</td>\n",
       "      <td>2</td>\n",
       "      <td>0</td>\n",
       "      <td>0</td>\n",
       "      <td>93826.63</td>\n",
       "      <td>0</td>\n",
       "    </tr>\n",
       "    <tr>\n",
       "      <th>4</th>\n",
       "      <td>5</td>\n",
       "      <td>15737888</td>\n",
       "      <td>Mitchell</td>\n",
       "      <td>850</td>\n",
       "      <td>Spain</td>\n",
       "      <td>Female</td>\n",
       "      <td>43</td>\n",
       "      <td>2</td>\n",
       "      <td>125510.82</td>\n",
       "      <td>1</td>\n",
       "      <td>1</td>\n",
       "      <td>1</td>\n",
       "      <td>79084.10</td>\n",
       "      <td>0</td>\n",
       "    </tr>\n",
       "  </tbody>\n",
       "</table>\n",
       "</div>"
      ],
      "text/plain": [
       "   RowNumber  CustomerId   Surname  CreditScore Geography  Gender  Age  \\\n",
       "0          1    15634602  Hargrave          619    France  Female   42   \n",
       "1          2    15647311      Hill          608     Spain  Female   41   \n",
       "2          3    15619304      Onio          502    France  Female   42   \n",
       "3          4    15701354      Boni          699    France  Female   39   \n",
       "4          5    15737888  Mitchell          850     Spain  Female   43   \n",
       "\n",
       "   Tenure    Balance  NumOfProducts  HasCrCard  IsActiveMember  \\\n",
       "0       2       0.00              1          1               1   \n",
       "1       1   83807.86              1          0               1   \n",
       "2       8  159660.80              3          1               0   \n",
       "3       1       0.00              2          0               0   \n",
       "4       2  125510.82              1          1               1   \n",
       "\n",
       "   EstimatedSalary  Exited  \n",
       "0        101348.88       1  \n",
       "1        112542.58       0  \n",
       "2        113931.57       1  \n",
       "3         93826.63       0  \n",
       "4         79084.10       0  "
      ]
     },
     "execution_count": 5,
     "metadata": {},
     "output_type": "execute_result"
    }
   ],
   "source": [
    "train_org.head()"
   ]
  },
  {
   "cell_type": "markdown",
   "id": "96762392",
   "metadata": {},
   "source": [
    "## Exploritory Data Analysis"
   ]
  },
  {
   "cell_type": "markdown",
   "id": "df813503",
   "metadata": {},
   "source": [
    "Exploratory Data Analysis (EDA) is an analysis approach that identifies general patterns in the data.\n",
    "These patterns include outliers and features of the data that might be unexpected. \n",
    "EDA is an important first step in any data analysis.\n",
    "\n",
    "\n",
    "Null Values:\n",
    "    \n",
    "Missing data / Null values is defined as the values or data that is not stored (or not present) for some variables in the given dataset.\n",
    "Here is a list of popular strategies to handle missing values in a dataset.\n",
    "\n",
    "Deleting the Column having Missing Values\n",
    "\n",
    "Deleting Row having Missing Values\n",
    "\n",
    "Imputing the Missing Values\n"
   ]
  },
  {
   "cell_type": "code",
   "execution_count": 6,
   "id": "5fc4d0ca",
   "metadata": {},
   "outputs": [
    {
     "data": {
      "text/plain": [
       "id                 0\n",
       "CustomerId         0\n",
       "Surname            0\n",
       "CreditScore        0\n",
       "Geography          0\n",
       "Gender             0\n",
       "Age                0\n",
       "Tenure             0\n",
       "Balance            0\n",
       "NumOfProducts      0\n",
       "HasCrCard          0\n",
       "IsActiveMember     0\n",
       "EstimatedSalary    0\n",
       "Exited             0\n",
       "dtype: int64"
      ]
     },
     "execution_count": 6,
     "metadata": {},
     "output_type": "execute_result"
    }
   ],
   "source": [
    "train_syn.isnull().sum()"
   ]
  },
  {
   "cell_type": "markdown",
   "id": "2c947558",
   "metadata": {},
   "source": [
    "### Separating Numerical and Categorical Features"
   ]
  },
  {
   "cell_type": "code",
   "execution_count": 7,
   "id": "a2651435",
   "metadata": {},
   "outputs": [],
   "source": [
    "FEATURES = train_syn.columns.drop(['id','CustomerId','Exited'])"
   ]
  },
  {
   "cell_type": "code",
   "execution_count": 8,
   "id": "8388ab00",
   "metadata": {},
   "outputs": [],
   "source": [
    "NUM_FEATURES = train_syn._get_numeric_data().columns.drop(['id','CustomerId','Exited']).tolist()"
   ]
  },
  {
   "cell_type": "code",
   "execution_count": 9,
   "id": "041356c4",
   "metadata": {},
   "outputs": [],
   "source": [
    "CAT_FEATURES = FEATURES.drop(NUM_FEATURES).tolist()"
   ]
  },
  {
   "cell_type": "code",
   "execution_count": 10,
   "id": "da0010d4",
   "metadata": {},
   "outputs": [
    {
     "name": "stdout",
     "output_type": "stream",
     "text": [
      "Numerical Features:  ['CreditScore', 'Age', 'Balance', 'EstimatedSalary']\n",
      "Categorical Features:  ['Surname', 'Geography', 'Gender', 'Tenure', 'NumOfProducts', 'HasCrCard', 'IsActiveMember']\n",
      "\n",
      "id                 0\n",
      "CustomerId         0\n",
      "Surname            0\n",
      "CreditScore        0\n",
      "Geography          0\n",
      "Gender             0\n",
      "Age                0\n",
      "Tenure             0\n",
      "Balance            0\n",
      "NumOfProducts      0\n",
      "HasCrCard          0\n",
      "IsActiveMember     0\n",
      "EstimatedSalary    0\n",
      "Exited             0\n",
      "dtype: int64\n"
     ]
    }
   ],
   "source": [
    "num_to_cat = ['Tenure','NumOfProducts','HasCrCard','IsActiveMember']\n",
    "CAT_FEATURES.extend(num_to_cat)\n",
    "NUM_FEATURES = [x for x in NUM_FEATURES if x not in num_to_cat]\n",
    "\n",
    "print(\"Numerical Features: \",NUM_FEATURES)\n",
    "print(\"Categorical Features: \",CAT_FEATURES,end = \"\\n\\n\")\n",
    "print(train_syn.isnull().sum())"
   ]
  },
  {
   "cell_type": "markdown",
   "id": "8c88988f",
   "metadata": {},
   "source": [
    "Adding few Numerical Columns which are not wide and varied dataset either having binary dataset or limited values into categorical features"
   ]
  },
  {
   "cell_type": "markdown",
   "id": "c18e46dc",
   "metadata": {},
   "source": [
    "### Describing Data"
   ]
  },
  {
   "cell_type": "code",
   "execution_count": 11,
   "id": "f537f752",
   "metadata": {},
   "outputs": [
    {
     "data": {
      "text/html": [
       "<style type=\"text/css\">\n",
       "#T_05838_row0_col2, #T_05838_row0_col3 {\n",
       "  background-color: #fef6fb;\n",
       "  color: #000000;\n",
       "}\n",
       "#T_05838_row0_col4, #T_05838_row0_col5, #T_05838_row1_col2, #T_05838_row1_col3, #T_05838_row1_col4, #T_05838_row1_col5 {\n",
       "  background-color: #fff7fb;\n",
       "  color: #000000;\n",
       "}\n",
       "#T_05838_row2_col2 {\n",
       "  background-color: #76aad0;\n",
       "  color: #f1f1f1;\n",
       "}\n",
       "#T_05838_row2_col3 {\n",
       "  background-color: #056dac;\n",
       "  color: #f1f1f1;\n",
       "}\n",
       "#T_05838_row2_col4, #T_05838_row2_col5, #T_05838_row3_col2, #T_05838_row3_col3 {\n",
       "  background-color: #023858;\n",
       "  color: #f1f1f1;\n",
       "}\n",
       "#T_05838_row3_col4 {\n",
       "  background-color: #0567a2;\n",
       "  color: #f1f1f1;\n",
       "}\n",
       "#T_05838_row3_col5 {\n",
       "  background-color: #034d79;\n",
       "  color: #f1f1f1;\n",
       "}\n",
       "</style>\n",
       "<table id=\"T_05838\">\n",
       "  <thead>\n",
       "    <tr>\n",
       "      <th class=\"blank level0\" >&nbsp;</th>\n",
       "      <th id=\"T_05838_level0_col0\" class=\"col_heading level0 col0\" >count_syn</th>\n",
       "      <th id=\"T_05838_level0_col1\" class=\"col_heading level0 col1\" >count_org</th>\n",
       "      <th id=\"T_05838_level0_col2\" class=\"col_heading level0 col2\" >mean_syn</th>\n",
       "      <th id=\"T_05838_level0_col3\" class=\"col_heading level0 col3\" >mean_org</th>\n",
       "      <th id=\"T_05838_level0_col4\" class=\"col_heading level0 col4\" >std_syn</th>\n",
       "      <th id=\"T_05838_level0_col5\" class=\"col_heading level0 col5\" >std_org</th>\n",
       "      <th id=\"T_05838_level0_col6\" class=\"col_heading level0 col6\" >min_syn</th>\n",
       "      <th id=\"T_05838_level0_col7\" class=\"col_heading level0 col7\" >min_org</th>\n",
       "      <th id=\"T_05838_level0_col8\" class=\"col_heading level0 col8\" >25%_syn</th>\n",
       "      <th id=\"T_05838_level0_col9\" class=\"col_heading level0 col9\" >25%_org</th>\n",
       "      <th id=\"T_05838_level0_col10\" class=\"col_heading level0 col10\" >50%_syn</th>\n",
       "      <th id=\"T_05838_level0_col11\" class=\"col_heading level0 col11\" >50%_org</th>\n",
       "      <th id=\"T_05838_level0_col12\" class=\"col_heading level0 col12\" >75%_syn</th>\n",
       "      <th id=\"T_05838_level0_col13\" class=\"col_heading level0 col13\" >75%_org</th>\n",
       "      <th id=\"T_05838_level0_col14\" class=\"col_heading level0 col14\" >max_syn</th>\n",
       "      <th id=\"T_05838_level0_col15\" class=\"col_heading level0 col15\" >max_org</th>\n",
       "    </tr>\n",
       "  </thead>\n",
       "  <tbody>\n",
       "    <tr>\n",
       "      <th id=\"T_05838_level0_row0\" class=\"row_heading level0 row0\" >CreditScore</th>\n",
       "      <td id=\"T_05838_row0_col0\" class=\"data row0 col0\" >165034.000000</td>\n",
       "      <td id=\"T_05838_row0_col1\" class=\"data row0 col1\" >10000.000000</td>\n",
       "      <td id=\"T_05838_row0_col2\" class=\"data row0 col2\" >656.454373</td>\n",
       "      <td id=\"T_05838_row0_col3\" class=\"data row0 col3\" >650.528800</td>\n",
       "      <td id=\"T_05838_row0_col4\" class=\"data row0 col4\" >80.103340</td>\n",
       "      <td id=\"T_05838_row0_col5\" class=\"data row0 col5\" >96.653299</td>\n",
       "      <td id=\"T_05838_row0_col6\" class=\"data row0 col6\" >350.000000</td>\n",
       "      <td id=\"T_05838_row0_col7\" class=\"data row0 col7\" >350.000000</td>\n",
       "      <td id=\"T_05838_row0_col8\" class=\"data row0 col8\" >597.000000</td>\n",
       "      <td id=\"T_05838_row0_col9\" class=\"data row0 col9\" >584.000000</td>\n",
       "      <td id=\"T_05838_row0_col10\" class=\"data row0 col10\" >659.000000</td>\n",
       "      <td id=\"T_05838_row0_col11\" class=\"data row0 col11\" >652.000000</td>\n",
       "      <td id=\"T_05838_row0_col12\" class=\"data row0 col12\" >710.000000</td>\n",
       "      <td id=\"T_05838_row0_col13\" class=\"data row0 col13\" >718.000000</td>\n",
       "      <td id=\"T_05838_row0_col14\" class=\"data row0 col14\" >850.000000</td>\n",
       "      <td id=\"T_05838_row0_col15\" class=\"data row0 col15\" >850.000000</td>\n",
       "    </tr>\n",
       "    <tr>\n",
       "      <th id=\"T_05838_level0_row1\" class=\"row_heading level0 row1\" >Age</th>\n",
       "      <td id=\"T_05838_row1_col0\" class=\"data row1 col0\" >165034.000000</td>\n",
       "      <td id=\"T_05838_row1_col1\" class=\"data row1 col1\" >10000.000000</td>\n",
       "      <td id=\"T_05838_row1_col2\" class=\"data row1 col2\" >38.125888</td>\n",
       "      <td id=\"T_05838_row1_col3\" class=\"data row1 col3\" >38.921800</td>\n",
       "      <td id=\"T_05838_row1_col4\" class=\"data row1 col4\" >8.867205</td>\n",
       "      <td id=\"T_05838_row1_col5\" class=\"data row1 col5\" >10.487806</td>\n",
       "      <td id=\"T_05838_row1_col6\" class=\"data row1 col6\" >18.000000</td>\n",
       "      <td id=\"T_05838_row1_col7\" class=\"data row1 col7\" >18.000000</td>\n",
       "      <td id=\"T_05838_row1_col8\" class=\"data row1 col8\" >32.000000</td>\n",
       "      <td id=\"T_05838_row1_col9\" class=\"data row1 col9\" >32.000000</td>\n",
       "      <td id=\"T_05838_row1_col10\" class=\"data row1 col10\" >37.000000</td>\n",
       "      <td id=\"T_05838_row1_col11\" class=\"data row1 col11\" >37.000000</td>\n",
       "      <td id=\"T_05838_row1_col12\" class=\"data row1 col12\" >42.000000</td>\n",
       "      <td id=\"T_05838_row1_col13\" class=\"data row1 col13\" >44.000000</td>\n",
       "      <td id=\"T_05838_row1_col14\" class=\"data row1 col14\" >92.000000</td>\n",
       "      <td id=\"T_05838_row1_col15\" class=\"data row1 col15\" >92.000000</td>\n",
       "    </tr>\n",
       "    <tr>\n",
       "      <th id=\"T_05838_level0_row2\" class=\"row_heading level0 row2\" >Balance</th>\n",
       "      <td id=\"T_05838_row2_col0\" class=\"data row2 col0\" >165034.000000</td>\n",
       "      <td id=\"T_05838_row2_col1\" class=\"data row2 col1\" >10000.000000</td>\n",
       "      <td id=\"T_05838_row2_col2\" class=\"data row2 col2\" >55478.086689</td>\n",
       "      <td id=\"T_05838_row2_col3\" class=\"data row2 col3\" >76485.889288</td>\n",
       "      <td id=\"T_05838_row2_col4\" class=\"data row2 col4\" >62817.663278</td>\n",
       "      <td id=\"T_05838_row2_col5\" class=\"data row2 col5\" >62397.405202</td>\n",
       "      <td id=\"T_05838_row2_col6\" class=\"data row2 col6\" >0.000000</td>\n",
       "      <td id=\"T_05838_row2_col7\" class=\"data row2 col7\" >0.000000</td>\n",
       "      <td id=\"T_05838_row2_col8\" class=\"data row2 col8\" >0.000000</td>\n",
       "      <td id=\"T_05838_row2_col9\" class=\"data row2 col9\" >0.000000</td>\n",
       "      <td id=\"T_05838_row2_col10\" class=\"data row2 col10\" >0.000000</td>\n",
       "      <td id=\"T_05838_row2_col11\" class=\"data row2 col11\" >97198.540000</td>\n",
       "      <td id=\"T_05838_row2_col12\" class=\"data row2 col12\" >119939.517500</td>\n",
       "      <td id=\"T_05838_row2_col13\" class=\"data row2 col13\" >127644.240000</td>\n",
       "      <td id=\"T_05838_row2_col14\" class=\"data row2 col14\" >250898.090000</td>\n",
       "      <td id=\"T_05838_row2_col15\" class=\"data row2 col15\" >250898.090000</td>\n",
       "    </tr>\n",
       "    <tr>\n",
       "      <th id=\"T_05838_level0_row3\" class=\"row_heading level0 row3\" >EstimatedSalary</th>\n",
       "      <td id=\"T_05838_row3_col0\" class=\"data row3 col0\" >165034.000000</td>\n",
       "      <td id=\"T_05838_row3_col1\" class=\"data row3 col1\" >10000.000000</td>\n",
       "      <td id=\"T_05838_row3_col2\" class=\"data row3 col2\" >112574.822734</td>\n",
       "      <td id=\"T_05838_row3_col3\" class=\"data row3 col3\" >100090.239881</td>\n",
       "      <td id=\"T_05838_row3_col4\" class=\"data row3 col4\" >50292.865585</td>\n",
       "      <td id=\"T_05838_row3_col5\" class=\"data row3 col5\" >57510.492818</td>\n",
       "      <td id=\"T_05838_row3_col6\" class=\"data row3 col6\" >11.580000</td>\n",
       "      <td id=\"T_05838_row3_col7\" class=\"data row3 col7\" >11.580000</td>\n",
       "      <td id=\"T_05838_row3_col8\" class=\"data row3 col8\" >74637.570000</td>\n",
       "      <td id=\"T_05838_row3_col9\" class=\"data row3 col9\" >51002.110000</td>\n",
       "      <td id=\"T_05838_row3_col10\" class=\"data row3 col10\" >117948.000000</td>\n",
       "      <td id=\"T_05838_row3_col11\" class=\"data row3 col11\" >100193.915000</td>\n",
       "      <td id=\"T_05838_row3_col12\" class=\"data row3 col12\" >155152.467500</td>\n",
       "      <td id=\"T_05838_row3_col13\" class=\"data row3 col13\" >149388.247500</td>\n",
       "      <td id=\"T_05838_row3_col14\" class=\"data row3 col14\" >199992.480000</td>\n",
       "      <td id=\"T_05838_row3_col15\" class=\"data row3 col15\" >199992.480000</td>\n",
       "    </tr>\n",
       "  </tbody>\n",
       "</table>\n"
      ],
      "text/plain": [
       "<pandas.io.formats.style.Styler at 0x1fe1f040490>"
      ]
     },
     "execution_count": 11,
     "metadata": {},
     "output_type": "execute_result"
    }
   ],
   "source": [
    "df_1 = pd.DataFrame(train_syn[NUM_FEATURES].describe().T)\n",
    "df_1 = df_1.add_suffix('_syn')\n",
    "df_2 = pd.DataFrame(train_org[NUM_FEATURES].describe().T)\n",
    "df_2 = df_2.add_suffix('_org')\n",
    "df = pd.concat([df_1,df_2],axis = 1)\n",
    "del df_1, df_2\n",
    "new_cols = ['count_syn','count_org','mean_syn','mean_org','std_syn','std_org','min_syn','min_org',\n",
    "            '25%_syn','25%_org','50%_syn','50%_org','75%_syn','75%_org','max_syn','max_org']\n",
    "df = df[new_cols]\n",
    "df.style.background_gradient(axis = 0,subset = ['mean_syn','mean_org','std_syn','std_org'])"
   ]
  },
  {
   "cell_type": "markdown",
   "id": "5f8ca32f",
   "metadata": {},
   "source": [
    "### Concating Synthetic and Original dataset"
   ]
  },
  {
   "cell_type": "code",
   "execution_count": 12,
   "id": "10fa63a6",
   "metadata": {},
   "outputs": [
    {
     "name": "stdout",
     "output_type": "stream",
     "text": [
      "Shape Before dropping null values :  (175034, 12)\n",
      "Shape After dropping null values: (175034, 12)\n",
      "\n",
      "Surname            0\n",
      "CreditScore        0\n",
      "Geography          0\n",
      "Gender             0\n",
      "Age                0\n",
      "Tenure             0\n",
      "Balance            0\n",
      "NumOfProducts      0\n",
      "HasCrCard          0\n",
      "IsActiveMember     0\n",
      "EstimatedSalary    0\n",
      "Exited             0\n",
      "dtype: int64\n",
      "\n"
     ]
    },
    {
     "data": {
      "text/html": [
       "<div>\n",
       "<style scoped>\n",
       "    .dataframe tbody tr th:only-of-type {\n",
       "        vertical-align: middle;\n",
       "    }\n",
       "\n",
       "    .dataframe tbody tr th {\n",
       "        vertical-align: top;\n",
       "    }\n",
       "\n",
       "    .dataframe thead th {\n",
       "        text-align: right;\n",
       "    }\n",
       "</style>\n",
       "<table border=\"1\" class=\"dataframe\">\n",
       "  <thead>\n",
       "    <tr style=\"text-align: right;\">\n",
       "      <th></th>\n",
       "      <th>Surname</th>\n",
       "      <th>CreditScore</th>\n",
       "      <th>Geography</th>\n",
       "      <th>Gender</th>\n",
       "      <th>Age</th>\n",
       "      <th>Tenure</th>\n",
       "      <th>Balance</th>\n",
       "      <th>NumOfProducts</th>\n",
       "      <th>HasCrCard</th>\n",
       "      <th>IsActiveMember</th>\n",
       "      <th>EstimatedSalary</th>\n",
       "      <th>Exited</th>\n",
       "    </tr>\n",
       "  </thead>\n",
       "  <tbody>\n",
       "    <tr>\n",
       "      <th>0</th>\n",
       "      <td>Okwudilichukwu</td>\n",
       "      <td>668</td>\n",
       "      <td>France</td>\n",
       "      <td>Male</td>\n",
       "      <td>33.0</td>\n",
       "      <td>3</td>\n",
       "      <td>0.00</td>\n",
       "      <td>2</td>\n",
       "      <td>1.0</td>\n",
       "      <td>0.0</td>\n",
       "      <td>181449.97</td>\n",
       "      <td>0</td>\n",
       "    </tr>\n",
       "    <tr>\n",
       "      <th>1</th>\n",
       "      <td>Okwudiliolisa</td>\n",
       "      <td>627</td>\n",
       "      <td>France</td>\n",
       "      <td>Male</td>\n",
       "      <td>33.0</td>\n",
       "      <td>1</td>\n",
       "      <td>0.00</td>\n",
       "      <td>2</td>\n",
       "      <td>1.0</td>\n",
       "      <td>1.0</td>\n",
       "      <td>49503.50</td>\n",
       "      <td>0</td>\n",
       "    </tr>\n",
       "    <tr>\n",
       "      <th>2</th>\n",
       "      <td>Hsueh</td>\n",
       "      <td>678</td>\n",
       "      <td>France</td>\n",
       "      <td>Male</td>\n",
       "      <td>40.0</td>\n",
       "      <td>10</td>\n",
       "      <td>0.00</td>\n",
       "      <td>2</td>\n",
       "      <td>1.0</td>\n",
       "      <td>0.0</td>\n",
       "      <td>184866.69</td>\n",
       "      <td>0</td>\n",
       "    </tr>\n",
       "    <tr>\n",
       "      <th>3</th>\n",
       "      <td>Kao</td>\n",
       "      <td>581</td>\n",
       "      <td>France</td>\n",
       "      <td>Male</td>\n",
       "      <td>34.0</td>\n",
       "      <td>2</td>\n",
       "      <td>148882.54</td>\n",
       "      <td>1</td>\n",
       "      <td>1.0</td>\n",
       "      <td>1.0</td>\n",
       "      <td>84560.88</td>\n",
       "      <td>0</td>\n",
       "    </tr>\n",
       "    <tr>\n",
       "      <th>4</th>\n",
       "      <td>Chiemenam</td>\n",
       "      <td>716</td>\n",
       "      <td>Spain</td>\n",
       "      <td>Male</td>\n",
       "      <td>33.0</td>\n",
       "      <td>5</td>\n",
       "      <td>0.00</td>\n",
       "      <td>2</td>\n",
       "      <td>1.0</td>\n",
       "      <td>1.0</td>\n",
       "      <td>15068.83</td>\n",
       "      <td>0</td>\n",
       "    </tr>\n",
       "  </tbody>\n",
       "</table>\n",
       "</div>"
      ],
      "text/plain": [
       "          Surname  CreditScore Geography Gender   Age  Tenure    Balance  \\\n",
       "0  Okwudilichukwu          668    France   Male  33.0       3       0.00   \n",
       "1   Okwudiliolisa          627    France   Male  33.0       1       0.00   \n",
       "2           Hsueh          678    France   Male  40.0      10       0.00   \n",
       "3             Kao          581    France   Male  34.0       2  148882.54   \n",
       "4       Chiemenam          716     Spain   Male  33.0       5       0.00   \n",
       "\n",
       "   NumOfProducts  HasCrCard  IsActiveMember  EstimatedSalary  Exited  \n",
       "0              2        1.0             0.0        181449.97       0  \n",
       "1              2        1.0             1.0         49503.50       0  \n",
       "2              2        1.0             0.0        184866.69       0  \n",
       "3              1        1.0             1.0         84560.88       0  \n",
       "4              2        1.0             1.0         15068.83       0  "
      ]
     },
     "execution_count": 12,
     "metadata": {},
     "output_type": "execute_result"
    }
   ],
   "source": [
    "train_syn.drop(['id','CustomerId'],axis = 1,inplace=True)\n",
    "train_org.drop(['RowNumber','CustomerId'],axis = 1, inplace = True)\n",
    "\n",
    "train = pd.concat([train_syn,train_org],axis = 0)\n",
    "print(\"Shape Before dropping null values : \", train.shape)\n",
    "\n",
    "## drop null values\n",
    "train.dropna(inplace=True)\n",
    "print(\"Shape After dropping null values:\", train.shape, end = \"\\n\\n\")\n",
    "print(train.isnull().sum(), end = \"\\n\\n\")\n",
    "train.reset_index(drop=True,inplace=True)\n",
    "train.head()"
   ]
  },
  {
   "cell_type": "markdown",
   "id": "8c4b4118",
   "metadata": {},
   "source": [
    "## Data Visualization"
   ]
  },
  {
   "cell_type": "markdown",
   "id": "46d1fbde",
   "metadata": {},
   "source": [
    "### Target"
   ]
  },
  {
   "cell_type": "code",
   "execution_count": 75,
   "id": "5f44cb01",
   "metadata": {},
   "outputs": [
    {
     "name": "stdout",
     "output_type": "stream",
     "text": [
      "0    138076\n",
      "1     36958\n",
      "Name: Exited, dtype: int64\n",
      "\n"
     ]
    },
    {
     "data": {
      "image/png": "[encoded data removed]",
      "text/plain": [
       "<Figure size 600x400 with 1 Axes>"
      ]
     },
     "metadata": {},
     "output_type": "display_data"
    }
   ],
   "source": [
    "target_counts = train['Exited'].value_counts()\n",
    "print(target_counts, end = '\\n\\n')\n",
    "\n",
    "fig, axs = plt.subplots(1,1,figsize=(6,4))\n",
    "\n",
    "axs.pie(\n",
    "    train['Exited'].value_counts(), \n",
    "    shadow=True, \n",
    "    explode=[.1 for i in range(train['Exited'].nunique())],  # Adjust the explode based on the number of unique values\n",
    "    autopct='%1.f%%',\n",
    "    textprops={'size': 14, 'color': 'white'}\n",
    ")\n",
    "axs.set_title('Target label in Train Dataset', fontsize=12, fontweight='bold')\n",
    "\n",
    "plt.tight_layout()\n",
    "plt.show()"
   ]
  },
  {
   "cell_type": "markdown",
   "id": "00057ff1",
   "metadata": {},
   "source": [
    "#### Some Observations from above plots:"
   ]
  },
  {
   "cell_type": "markdown",
   "id": "f36441e7",
   "metadata": {},
   "source": [
    "We can see that data is highly imbalanced. Almost 80% of our data is from class 0 (not exited) and 20% data is from class 1 (exited)."
   ]
  },
  {
   "cell_type": "markdown",
   "id": "0dbf59eb",
   "metadata": {},
   "source": [
    "### Categorical Features"
   ]
  },
  {
   "cell_type": "code",
   "execution_count": 14,
   "id": "86fadb96",
   "metadata": {},
   "outputs": [
    {
     "name": "stdout",
     "output_type": "stream",
     "text": [
      "['Surname', 'Geography', 'Gender', 'Tenure', 'NumOfProducts', 'HasCrCard', 'IsActiveMember']\n"
     ]
    }
   ],
   "source": [
    "print(CAT_FEATURES)"
   ]
  },
  {
   "cell_type": "code",
   "execution_count": 15,
   "id": "7d0fe94e",
   "metadata": {},
   "outputs": [],
   "source": [
    "def plot_cat(feature):\n",
    "    f = feature\n",
    "    fig ,axs = plt.subplots(1,2,figsize = (10,4))\n",
    "    fig.suptitle('Feature ='+f)\n",
    "\n",
    "    sns.countplot(ax = axs[0],data = train, x = f)\n",
    "    axs[0].set_title(\"Countplot\")\n",
    "\n",
    "    sns.countplot(ax = axs[1],data = train, x = f,hue=\"Exited\")\n",
    "    axs[1].set_title(\"Countplot with Exited\")\n",
    "    plt.show()"
   ]
  },
  {
   "cell_type": "code",
   "execution_count": 16,
   "id": "cf71f0b3",
   "metadata": {},
   "outputs": [
    {
     "data": {
      "text/html": [
       "<div>\n",
       "<style scoped>\n",
       "    .dataframe tbody tr th:only-of-type {\n",
       "        vertical-align: middle;\n",
       "    }\n",
       "\n",
       "    .dataframe tbody tr th {\n",
       "        vertical-align: top;\n",
       "    }\n",
       "\n",
       "    .dataframe thead th {\n",
       "        text-align: right;\n",
       "    }\n",
       "</style>\n",
       "<table border=\"1\" class=\"dataframe\">\n",
       "  <thead>\n",
       "    <tr style=\"text-align: right;\">\n",
       "      <th></th>\n",
       "      <th>index</th>\n",
       "      <th>Surname</th>\n",
       "    </tr>\n",
       "  </thead>\n",
       "  <tbody>\n",
       "    <tr>\n",
       "      <th>0</th>\n",
       "      <td>Hsia</td>\n",
       "      <td>2474</td>\n",
       "    </tr>\n",
       "    <tr>\n",
       "      <th>1</th>\n",
       "      <td>T'ien</td>\n",
       "      <td>2300</td>\n",
       "    </tr>\n",
       "    <tr>\n",
       "      <th>2</th>\n",
       "      <td>Hs?</td>\n",
       "      <td>1626</td>\n",
       "    </tr>\n",
       "    <tr>\n",
       "      <th>3</th>\n",
       "      <td>Maclean</td>\n",
       "      <td>1601</td>\n",
       "    </tr>\n",
       "    <tr>\n",
       "      <th>4</th>\n",
       "      <td>Kao</td>\n",
       "      <td>1597</td>\n",
       "    </tr>\n",
       "    <tr>\n",
       "      <th>5</th>\n",
       "      <td>Ts'ui</td>\n",
       "      <td>1586</td>\n",
       "    </tr>\n",
       "    <tr>\n",
       "      <th>6</th>\n",
       "      <td>P'eng</td>\n",
       "      <td>1520</td>\n",
       "    </tr>\n",
       "    <tr>\n",
       "      <th>7</th>\n",
       "      <td>H?</td>\n",
       "      <td>1439</td>\n",
       "    </tr>\n",
       "    <tr>\n",
       "      <th>8</th>\n",
       "      <td>Hsueh</td>\n",
       "      <td>1320</td>\n",
       "    </tr>\n",
       "    <tr>\n",
       "      <th>9</th>\n",
       "      <td>Shih</td>\n",
       "      <td>1276</td>\n",
       "    </tr>\n",
       "    <tr>\n",
       "      <th>10</th>\n",
       "      <td>Ch'ang</td>\n",
       "      <td>1246</td>\n",
       "    </tr>\n",
       "    <tr>\n",
       "      <th>11</th>\n",
       "      <td>Ch'iu</td>\n",
       "      <td>1215</td>\n",
       "    </tr>\n",
       "    <tr>\n",
       "      <th>12</th>\n",
       "      <td>Mazzanti</td>\n",
       "      <td>1207</td>\n",
       "    </tr>\n",
       "    <tr>\n",
       "      <th>13</th>\n",
       "      <td>Tuan</td>\n",
       "      <td>1183</td>\n",
       "    </tr>\n",
       "    <tr>\n",
       "      <th>14</th>\n",
       "      <td>Fanucci</td>\n",
       "      <td>1162</td>\n",
       "    </tr>\n",
       "  </tbody>\n",
       "</table>\n",
       "</div>"
      ],
      "text/plain": [
       "       index  Surname\n",
       "0       Hsia     2474\n",
       "1      T'ien     2300\n",
       "2        Hs?     1626\n",
       "3    Maclean     1601\n",
       "4        Kao     1597\n",
       "5      Ts'ui     1586\n",
       "6      P'eng     1520\n",
       "7         H?     1439\n",
       "8      Hsueh     1320\n",
       "9       Shih     1276\n",
       "10    Ch'ang     1246\n",
       "11     Ch'iu     1215\n",
       "12  Mazzanti     1207\n",
       "13      Tuan     1183\n",
       "14   Fanucci     1162"
      ]
     },
     "execution_count": 16,
     "metadata": {},
     "output_type": "execute_result"
    }
   ],
   "source": [
    "top_surnames = pd.DataFrame(train['Surname'].value_counts()[:15])\n",
    "top_surnames = top_surnames.reset_index()\n",
    "top_surnames"
   ]
  },
  {
   "cell_type": "code",
   "execution_count": 17,
   "id": "9af9577b",
   "metadata": {},
   "outputs": [
    {
     "data": {
      "text/plain": [
       "<Axes: title={'center': 'Top Surname who exited (Countwise) in Train Data'}, xlabel='Surname', ylabel='count'>"
      ]
     },
     "execution_count": 17,
     "metadata": {},
     "output_type": "execute_result"
    },
    {
     "data": {
      "image/png": "[encoded data removed]",
      "text/plain": [
       "<Figure size 1200x400 with 2 Axes>"
      ]
     },
     "metadata": {},
     "output_type": "display_data"
    }
   ],
   "source": [
    "fig,axs = plt.subplots(1,2,figsize = (12,4))\n",
    "top_surnames = pd.DataFrame(train['Surname'].value_counts()[:15])\n",
    "top_surnames = top_surnames.reset_index()\n",
    "top_surnames = top_surnames.rename(columns={'Surname':'count','index':'Surname'})\n",
    "top_surnames['count'] = top_surnames['count'].astype(int)\n",
    "sns.barplot(ax=axs[0],x=\"Surname\",y=\"count\",data = top_surnames,palette=\"viridis\")\n",
    "axs[0].tick_params(labelrotation=45)\n",
    "\n",
    "axs[0].set_title(\"Top Surname (Countwise) in Train Data\")\n",
    "top_surnames_exited = pd.DataFrame(train[train[\"Exited\"] == 1]['Surname'].value_counts()[:15])\n",
    "top_surnames_exited = top_surnames_exited.reset_index()\n",
    "top_surnames_exited = top_surnames_exited.rename(columns={'Surname':'count','index':'Surname'})\n",
    "top_surnames_exited['count'] = top_surnames_exited['count'].astype(int)\n",
    "plt.xticks(rotation=45)\n",
    "axs[1].set_title(\"Top Surname who exited (Countwise) in Train Data\")\n",
    "sns.barplot(ax = axs[1],x='Surname', y='count', data = top_surnames_exited, palette='viridis')"
   ]
  },
  {
   "cell_type": "code",
   "execution_count": 18,
   "id": "9105ca0b",
   "metadata": {},
   "outputs": [
    {
     "name": "stdout",
     "output_type": "stream",
     "text": [
      "Percentage of cutomers from France Exited : 16.51 %\n",
      "Percentage of customers from Spain Exited : 17.18 %\n",
      "Percentage of customers Exited from Germany: 37.53 %\n",
      "\n"
     ]
    },
    {
     "data": {
      "image/png": "[encoded data removed]",
      "text/plain": [
       "<Figure size 1000x400 with 2 Axes>"
      ]
     },
     "metadata": {},
     "output_type": "display_data"
    }
   ],
   "source": [
    "count = train[train['Geography'] == 'France'][\"Exited\"].value_counts()\n",
    "print(\"Percentage of cutomers from France Exited : {:.2f}\".format((count[1]/count.sum())*100),\"%\")\n",
    "\n",
    "count = train[train['Geography'] == 'Spain'][\"Exited\"].value_counts()\n",
    "print(\"Percentage of customers from Spain Exited : {:.2f}\".format((count[1]/count.sum())*100),\"%\")\n",
    "\n",
    "count = train[train['Geography'] == 'Germany'][\"Exited\"].value_counts()\n",
    "print(\"Percentage of customers Exited from Germany: {:.2f}\".format((count[1]/count.sum())*100),\"%\")\n",
    "print()\n",
    "plot_cat(CAT_FEATURES[1])"
   ]
  },
  {
   "cell_type": "code",
   "execution_count": 19,
   "id": "0fbef348",
   "metadata": {},
   "outputs": [
    {
     "name": "stdout",
     "output_type": "stream",
     "text": [
      "Total percentage of Male Exited : 15.94 %\n",
      "Total percentage of Female Exited : 27.80 %\n",
      "\n"
     ]
    },
    {
     "data": {
      "image/png": "[encoded data removed]",
      "text/plain": [
       "<Figure size 1000x400 with 2 Axes>"
      ]
     },
     "metadata": {},
     "output_type": "display_data"
    }
   ],
   "source": [
    "count = train[train['Gender'] == 'Male'][\"Exited\"].value_counts()\n",
    "print(\"Total percentage of Male Exited : {:.2f}\".format((count[1]/count.sum())*100),\"%\")\n",
    "count = train[train['Gender'] == 'Female'][\"Exited\"].value_counts()\n",
    "print(\"Total percentage of Female Exited : {:.2f}\".format((count[1]/count.sum())*100),\"%\")\n",
    "print()\n",
    "\n",
    "plot_cat(CAT_FEATURES[2])"
   ]
  },
  {
   "cell_type": "code",
   "execution_count": 20,
   "id": "e3585030",
   "metadata": {},
   "outputs": [
    {
     "name": "stdout",
     "output_type": "stream",
     "text": [
      "Total percentage of Customer with Tenure 0 Exited 25.30 %\n",
      "Total percentage of Customer with Tenure 1 Exited 22.60 %\n",
      "Total percentage of Customer with Tenure 2 Exited 19.47 %\n",
      "Total percentage of Customer with Tenure 3 Exited 22.81 %\n",
      "Total percentage of Customer with Tenure 4 Exited 22.53 %\n",
      "Total percentage of Customer with Tenure 5 Exited 21.93 %\n",
      "Total percentage of Customer with Tenure 6 Exited 19.90 %\n",
      "Total percentage of Customer with Tenure 7 Exited 18.68 %\n",
      "Total percentage of Customer with Tenure 8 Exited 19.76 %\n",
      "Total percentage of Customer with Tenure 9 Exited 21.23 %\n",
      "Total percentage of Customer with Tenure 10 Exited 21.22 %\n",
      "\n"
     ]
    },
    {
     "data": {
      "image/png": "[encoded data removed]",
      "text/plain": [
       "<Figure size 1000x400 with 2 Axes>"
      ]
     },
     "metadata": {},
     "output_type": "display_data"
    }
   ],
   "source": [
    "for i in range(11):\n",
    "    count = train[train['Tenure'] == i][\"Exited\"].value_counts()\n",
    "    print(\"Total percentage of Customer with Tenure \" +str(i) +\" Exited {:.2f}\".format((count[1]/count.sum())*100),\"%\")\n",
    "print()\n",
    "\n",
    "plot_cat(CAT_FEATURES[3])"
   ]
  },
  {
   "cell_type": "code",
   "execution_count": 21,
   "id": "5a491706",
   "metadata": {},
   "outputs": [
    {
     "name": "stdout",
     "output_type": "stream",
     "text": [
      "Total percentage of Customer with num of products 1 Exited 34.28 %\n",
      "Total percentage of Customer with num of products 2 Exited 6.12 %\n",
      "Total percentage of Customer with num of products 3 Exited 87.78 %\n",
      "Total percentage of Customer with num of products 4 Exited 88.97 %\n",
      "\n"
     ]
    },
    {
     "data": {
      "image/png": "[encoded data removed]",
      "text/plain": [
       "<Figure size 1000x400 with 2 Axes>"
      ]
     },
     "metadata": {},
     "output_type": "display_data"
    }
   ],
   "source": [
    "for i in range(1,5):\n",
    "    count = train[train['NumOfProducts'] == i][\"Exited\"].value_counts()\n",
    "    print(\"Total percentage of Customer with num of products \" +str(i) +\" Exited {:.2f}\".format((count[1]/count.sum())*100),\"%\")\n",
    "print()\n",
    "\n",
    "plot_cat(CAT_FEATURES[4])"
   ]
  },
  {
   "cell_type": "code",
   "execution_count": 22,
   "id": "3aa4509f",
   "metadata": {},
   "outputs": [
    {
     "name": "stdout",
     "output_type": "stream",
     "text": [
      "Total percentage of Customer with Credit Card Exited 20.62 %\n",
      "\n"
     ]
    },
    {
     "data": {
      "image/png": "[encoded data removed]",
      "text/plain": [
       "<Figure size 1000x400 with 2 Axes>"
      ]
     },
     "metadata": {},
     "output_type": "display_data"
    }
   ],
   "source": [
    "count = train[train['HasCrCard'] == 1][\"Exited\"].value_counts()\n",
    "print(\"Total percentage of Customer with Credit Card Exited {:.2f}\".format((count[1]/count.sum())*100),\"%\")\n",
    "print()\n",
    "\n",
    "plot_cat(CAT_FEATURES[5])"
   ]
  },
  {
   "cell_type": "code",
   "execution_count": 23,
   "id": "372df663",
   "metadata": {},
   "outputs": [
    {
     "name": "stdout",
     "output_type": "stream",
     "text": [
      "Churn rate in customers who are Not Active Members 29.55 %\n",
      "Churn rate in customers who are Active Members 12.64 %\n",
      "\n"
     ]
    },
    {
     "data": {
      "image/png": "[encoded data removed]",
      "text/plain": [
       "<Figure size 1000x400 with 2 Axes>"
      ]
     },
     "metadata": {},
     "output_type": "display_data"
    }
   ],
   "source": [
    "count = train[train['IsActiveMember'] == 0][\"Exited\"].value_counts()\n",
    "print(\"Churn rate in customers who are Not Active Members {:.2f}\".format((count[1]/count.sum())*100),\"%\")\n",
    "\n",
    "count = train[train['IsActiveMember'] == 1][\"Exited\"].value_counts()\n",
    "print(\"Churn rate in customers who are Active Members {:.2f}\".format((count[1]/count.sum())*100),\"%\")\n",
    "print()\n",
    "\n",
    "plot_cat(CAT_FEATURES[6])"
   ]
  },
  {
   "cell_type": "markdown",
   "id": "092eb8a3",
   "metadata": {},
   "source": [
    "### Numerical Features"
   ]
  },
  {
   "cell_type": "code",
   "execution_count": 24,
   "id": "eb0c433b",
   "metadata": {},
   "outputs": [
    {
     "name": "stdout",
     "output_type": "stream",
     "text": [
      "['CreditScore', 'Age', 'Balance', 'EstimatedSalary']\n"
     ]
    }
   ],
   "source": [
    "def plot_num(f):\n",
    "    \n",
    "    print(train[f].describe())\n",
    "    print()\n",
    "    fig, axs = plt.subplots(nrows = 2, ncols = 2, figsize = (12,4))\n",
    "    plt.suptitle(f)\n",
    "    sns.histplot(ax = axs[0,0], data = train, x = f,bins=50)\n",
    "    sns.histplot(ax = axs[0,1], data = train, x = f,hue=\"Exited\",bins=50)\n",
    "\n",
    "    sns.boxplot(ax = axs[1,0], data=train, y=f)\n",
    "    sns.boxplot(ax = axs[1,1], data=train, x=\"Exited\", y=f)\n",
    "    plt.show()\n",
    "\n",
    "print(NUM_FEATURES)"
   ]
  },
  {
   "cell_type": "code",
   "execution_count": 25,
   "id": "dd4d026c",
   "metadata": {},
   "outputs": [
    {
     "name": "stdout",
     "output_type": "stream",
     "text": [
      "count    175034.000000\n",
      "mean        656.115835\n",
      "std          81.151171\n",
      "min         350.000000\n",
      "25%         597.000000\n",
      "50%         659.000000\n",
      "75%         710.000000\n",
      "max         850.000000\n",
      "Name: CreditScore, dtype: float64\n",
      "\n"
     ]
    },
    {
     "data": {
      "image/png": "[encoded data removed]",
      "text/plain": [
       "<Figure size 1200x400 with 4 Axes>"
      ]
     },
     "metadata": {},
     "output_type": "display_data"
    }
   ],
   "source": [
    "plot_num(NUM_FEATURES[0])"
   ]
  },
  {
   "cell_type": "code",
   "execution_count": 26,
   "id": "5dd1eb6a",
   "metadata": {},
   "outputs": [
    {
     "name": "stdout",
     "output_type": "stream",
     "text": [
      "count    175034.000000\n",
      "mean         38.171360\n",
      "std           8.969552\n",
      "min          18.000000\n",
      "25%          32.000000\n",
      "50%          37.000000\n",
      "75%          42.000000\n",
      "max          92.000000\n",
      "Name: Age, dtype: float64\n",
      "\n"
     ]
    },
    {
     "data": {
      "image/png": "[encoded data removed]",
      "text/plain": [
       "<Figure size 1200x400 with 4 Axes>"
      ]
     },
     "metadata": {},
     "output_type": "display_data"
    }
   ],
   "source": [
    "plot_num(NUM_FEATURES[1])"
   ]
  },
  {
   "cell_type": "code",
   "execution_count": 82,
   "id": "81b72bfb",
   "metadata": {},
   "outputs": [
    {
     "data": {
      "text/plain": [
       "0.00         93265\n",
       "124577.33       89\n",
       "127864.40       65\n",
       "122314.50       64\n",
       "129855.32       60\n",
       "             ...  \n",
       "133467.63        1\n",
       "104450.05        1\n",
       "101191.80        1\n",
       "99845.24         1\n",
       "90022.85         1\n",
       "Name: Balance, Length: 30239, dtype: int64"
      ]
     },
     "execution_count": 82,
     "metadata": {},
     "output_type": "execute_result"
    }
   ],
   "source": [
    "train['Balance'].value_counts()"
   ]
  },
  {
   "cell_type": "markdown",
   "id": "9509756d",
   "metadata": {},
   "source": [
    "Balance column is having too much values = 0, more than 50% of data is having balance 0 so to vizualise properly we are putting data other than value = 0"
   ]
  },
  {
   "cell_type": "code",
   "execution_count": 27,
   "id": "77ae69f6",
   "metadata": {},
   "outputs": [
    {
     "name": "stdout",
     "output_type": "stream",
     "text": [
      "count     81769.000000\n",
      "mean     121325.067588\n",
      "std       25455.660635\n",
      "min          18.330000\n",
      "25%      104796.540000\n",
      "50%      122104.790000\n",
      "75%      137841.530000\n",
      "max      250898.090000\n",
      "Name: Balance, dtype: float64\n",
      "\n"
     ]
    },
    {
     "data": {
      "image/png": "[encoded data removed]",
      "text/plain": [
       "<Figure size 1200x400 with 4 Axes>"
      ]
     },
     "metadata": {},
     "output_type": "display_data"
    }
   ],
   "source": [
    "f = NUM_FEATURES[2]\n",
    "df_ = train[train['Balance'] != 0]\n",
    "print(df_[f].describe())\n",
    "print()\n",
    "fig, axs = plt.subplots(nrows = 2, ncols = 2, figsize = (12,4))\n",
    "plt.suptitle(f)\n",
    "sns.histplot(ax = axs[0,0], data = df_, x = f,bins=50)\n",
    "sns.histplot(ax = axs[0,1], data = df_, x = f,hue=\"Exited\",bins=50)\n",
    "\n",
    "sns.boxplot(ax = axs[1,0], data=df_, y=f)\n",
    "sns.boxplot(ax = axs[1,1], data=df_, x=\"Exited\", y=f)\n",
    "plt.show()"
   ]
  },
  {
   "cell_type": "code",
   "execution_count": 28,
   "id": "43216208",
   "metadata": {},
   "outputs": [
    {
     "name": "stdout",
     "output_type": "stream",
     "text": [
      "count    175034.000000\n",
      "mean     111861.556577\n",
      "std       50815.382991\n",
      "min          11.580000\n",
      "25%       73192.370000\n",
      "50%      116969.730000\n",
      "75%      154767.340000\n",
      "max      199992.480000\n",
      "Name: EstimatedSalary, dtype: float64\n",
      "\n"
     ]
    },
    {
     "data": {
      "image/png": "[encoded data removed]",
      "text/plain": [
       "<Figure size 1200x400 with 4 Axes>"
      ]
     },
     "metadata": {},
     "output_type": "display_data"
    }
   ],
   "source": [
    "plot_num(NUM_FEATURES[3])"
   ]
  },
  {
   "cell_type": "markdown",
   "id": "bed9d424",
   "metadata": {},
   "source": [
    "## Feature Processing and Engineering`"
   ]
  },
  {
   "cell_type": "markdown",
   "id": "0a8c3e7b",
   "metadata": {},
   "source": [
    "In this part we will do:\n",
    "\n",
    "Encode categorical features\n",
    "Add new features\n",
    "Preprocess Num Featues"
   ]
  },
  {
   "cell_type": "code",
   "execution_count": 29,
   "id": "68f3167e",
   "metadata": {},
   "outputs": [
    {
     "data": {
      "text/html": [
       "<div>\n",
       "<style scoped>\n",
       "    .dataframe tbody tr th:only-of-type {\n",
       "        vertical-align: middle;\n",
       "    }\n",
       "\n",
       "    .dataframe tbody tr th {\n",
       "        vertical-align: top;\n",
       "    }\n",
       "\n",
       "    .dataframe thead th {\n",
       "        text-align: right;\n",
       "    }\n",
       "</style>\n",
       "<table border=\"1\" class=\"dataframe\">\n",
       "  <thead>\n",
       "    <tr style=\"text-align: right;\">\n",
       "      <th></th>\n",
       "      <th>Surname</th>\n",
       "      <th>Geography</th>\n",
       "      <th>Gender</th>\n",
       "      <th>Tenure</th>\n",
       "      <th>NumOfProducts</th>\n",
       "      <th>HasCrCard</th>\n",
       "      <th>IsActiveMember</th>\n",
       "    </tr>\n",
       "  </thead>\n",
       "  <tbody>\n",
       "    <tr>\n",
       "      <th>0</th>\n",
       "      <td>Okwudilichukwu</td>\n",
       "      <td>France</td>\n",
       "      <td>Male</td>\n",
       "      <td>3</td>\n",
       "      <td>2</td>\n",
       "      <td>1.0</td>\n",
       "      <td>0.0</td>\n",
       "    </tr>\n",
       "    <tr>\n",
       "      <th>1</th>\n",
       "      <td>Okwudiliolisa</td>\n",
       "      <td>France</td>\n",
       "      <td>Male</td>\n",
       "      <td>1</td>\n",
       "      <td>2</td>\n",
       "      <td>1.0</td>\n",
       "      <td>1.0</td>\n",
       "    </tr>\n",
       "    <tr>\n",
       "      <th>2</th>\n",
       "      <td>Hsueh</td>\n",
       "      <td>France</td>\n",
       "      <td>Male</td>\n",
       "      <td>10</td>\n",
       "      <td>2</td>\n",
       "      <td>1.0</td>\n",
       "      <td>0.0</td>\n",
       "    </tr>\n",
       "    <tr>\n",
       "      <th>3</th>\n",
       "      <td>Kao</td>\n",
       "      <td>France</td>\n",
       "      <td>Male</td>\n",
       "      <td>2</td>\n",
       "      <td>1</td>\n",
       "      <td>1.0</td>\n",
       "      <td>1.0</td>\n",
       "    </tr>\n",
       "    <tr>\n",
       "      <th>4</th>\n",
       "      <td>Chiemenam</td>\n",
       "      <td>Spain</td>\n",
       "      <td>Male</td>\n",
       "      <td>5</td>\n",
       "      <td>2</td>\n",
       "      <td>1.0</td>\n",
       "      <td>1.0</td>\n",
       "    </tr>\n",
       "  </tbody>\n",
       "</table>\n",
       "</div>"
      ],
      "text/plain": [
       "          Surname Geography Gender  Tenure  NumOfProducts  HasCrCard  \\\n",
       "0  Okwudilichukwu    France   Male       3              2        1.0   \n",
       "1   Okwudiliolisa    France   Male       1              2        1.0   \n",
       "2           Hsueh    France   Male      10              2        1.0   \n",
       "3             Kao    France   Male       2              1        1.0   \n",
       "4       Chiemenam     Spain   Male       5              2        1.0   \n",
       "\n",
       "   IsActiveMember  \n",
       "0             0.0  \n",
       "1             1.0  \n",
       "2             0.0  \n",
       "3             1.0  \n",
       "4             1.0  "
      ]
     },
     "execution_count": 29,
     "metadata": {},
     "output_type": "execute_result"
    }
   ],
   "source": [
    "train_mod = train.copy()\n",
    "test_mod = test.copy()\n",
    "train[CAT_FEATURES].head()"
   ]
  },
  {
   "cell_type": "markdown",
   "id": "af5f069a",
   "metadata": {},
   "source": [
    "### TF-IDF Encoding for Surnames"
   ]
  },
  {
   "cell_type": "markdown",
   "id": "66bb70a2",
   "metadata": {},
   "source": [
    "A very strange observation came out while running the model, if we are not including surname column as it is categorical and not having any importance in model, the auc score is reduced drastically. So here we are vectorizing this categorical colunmn in order to include in our model."
   ]
  },
  {
   "cell_type": "code",
   "execution_count": 30,
   "id": "3a7d23fd",
   "metadata": {},
   "outputs": [],
   "source": [
    "from sklearn.feature_extraction.text import TfidfVectorizer\n",
    "from sklearn.decomposition import PCA\n",
    "from sklearn.decomposition import TruncatedSVD"
   ]
  },
  {
   "cell_type": "code",
   "execution_count": 31,
   "id": "19f637c2",
   "metadata": {},
   "outputs": [],
   "source": [
    "def tf_idf(df_train,df_test,column,n,p):\n",
    "    vectorizer = TfidfVectorizer(max_features=n)\n",
    "    vectors_train = vectorizer.fit_transform(df_train[column])\n",
    "    vectors_test =vectorizer.transform(df_test[column])\n",
    "    \n",
    "    svd = TruncatedSVD(p)\n",
    "    x_pca_train = svd.fit_transform(vectors_train)\n",
    "    x_pca_test = svd.transform(vectors_test)\n",
    "    \n",
    "    tfidf_df_train = pd.DataFrame(x_pca_train)\n",
    "    tfidf_df_test = pd.DataFrame(x_pca_test)\n",
    "    cols=[(column+\"_tfidf_\"+str(f)) for f in tfidf_df_train.columns]\n",
    "    tfidf_df_train.columns = cols\n",
    "    tfidf_df_test.columns = cols\n",
    "    \n",
    "    df_train = pd.concat([df_train, tfidf_df_train],axis = \"columns\")\n",
    "    df_test = pd.concat([df_test,tfidf_df_test], axis = \"columns\")\n",
    "    \n",
    "    return df_train, df_test\n",
    "\n",
    "train_mod, test_mod = tf_idf(train_mod,test_mod,'Surname',1000,5)"
   ]
  },
  {
   "cell_type": "markdown",
   "id": "64f9a867",
   "metadata": {},
   "source": [
    "### Binning / Grouping CreditScore and Age Columns for encoding"
   ]
  },
  {
   "cell_type": "code",
   "execution_count": 32,
   "id": "af4dd438",
   "metadata": {},
   "outputs": [],
   "source": [
    "train_mod['CreditScoreGroup'] = pd.cut(train_mod['CreditScore'],bins = [300,579,669,739,799,850],\n",
    "                      labels=['Excellent','VeryGood','Good','Fair','Poor'])\n",
    "\n",
    "test_mod['CreditScoreGroup'] = pd.cut(test['CreditScore'],bins = [300,579,669,739,799,850],\n",
    "                      labels=['Excellent','VeryGood','Good','Fair','Poor'])"
   ]
  },
  {
   "cell_type": "markdown",
   "id": "5615b2b7",
   "metadata": {},
   "source": [
    "### AGE"
   ]
  },
  {
   "cell_type": "code",
   "execution_count": 33,
   "id": "91b90dd1",
   "metadata": {},
   "outputs": [],
   "source": [
    "train_mod['AgeGroups'] = pd.cut(train_mod['Age'], bins = [17,30,40,50,60,70,95],\n",
    "                           labels = ['18-29', '30-39', '40-49', '50-59', '60-69', '70+'],\n",
    "                           right=False)\n",
    "\n",
    "test_mod['AgeGroups'] = pd.cut(test_mod['Age'], bins = [17,30,40,50,60,70,95],\n",
    "                           labels = ['18-29', '30-39', '40-49', '50-59', '60-69', '70+'],\n",
    "                           right=False)"
   ]
  },
  {
   "cell_type": "code",
   "execution_count": 34,
   "id": "4e3a2f39",
   "metadata": {},
   "outputs": [],
   "source": [
    "from sklearn.preprocessing import OneHotEncoder"
   ]
  },
  {
   "cell_type": "code",
   "execution_count": 35,
   "id": "cce3af7c",
   "metadata": {},
   "outputs": [],
   "source": [
    "one_hot_features = ['CreditScoreGroup','Geography','Gender','AgeGroups']\n",
    "one_hot = OneHotEncoder()\n",
    "new_cols = one_hot.fit_transform(train_mod[one_hot_features]).toarray().astype('int8')\n",
    "col_names = one_hot.get_feature_names_out()\n",
    "train_mod[col_names] = new_cols\n",
    "train_mod.drop(one_hot_features,axis = 1,inplace=True)\n",
    "\n",
    "one_hot = OneHotEncoder()\n",
    "new_cols = one_hot.fit_transform(test_mod[one_hot_features]).toarray().astype('int8')\n",
    "col_names = one_hot.get_feature_names_out()\n",
    "test_mod[col_names] = new_cols\n",
    "test_mod.drop(one_hot_features,axis = 1,inplace=True)"
   ]
  },
  {
   "cell_type": "code",
   "execution_count": 36,
   "id": "000ca596",
   "metadata": {},
   "outputs": [],
   "source": [
    "from sklearn.preprocessing import StandardScaler"
   ]
  },
  {
   "cell_type": "code",
   "execution_count": 37,
   "id": "8db0775c",
   "metadata": {},
   "outputs": [
    {
     "data": {
      "text/html": [
       "<div>\n",
       "<style scoped>\n",
       "    .dataframe tbody tr th:only-of-type {\n",
       "        vertical-align: middle;\n",
       "    }\n",
       "\n",
       "    .dataframe tbody tr th {\n",
       "        vertical-align: top;\n",
       "    }\n",
       "\n",
       "    .dataframe thead th {\n",
       "        text-align: right;\n",
       "    }\n",
       "</style>\n",
       "<table border=\"1\" class=\"dataframe\">\n",
       "  <thead>\n",
       "    <tr style=\"text-align: right;\">\n",
       "      <th></th>\n",
       "      <th>Surname</th>\n",
       "      <th>CreditScore</th>\n",
       "      <th>Age</th>\n",
       "      <th>Tenure</th>\n",
       "      <th>Balance</th>\n",
       "      <th>NumOfProducts</th>\n",
       "      <th>HasCrCard</th>\n",
       "      <th>IsActiveMember</th>\n",
       "      <th>EstimatedSalary</th>\n",
       "      <th>Exited</th>\n",
       "      <th>...</th>\n",
       "      <th>Geography_Germany</th>\n",
       "      <th>Geography_Spain</th>\n",
       "      <th>Gender_Female</th>\n",
       "      <th>Gender_Male</th>\n",
       "      <th>AgeGroups_18-29</th>\n",
       "      <th>AgeGroups_30-39</th>\n",
       "      <th>AgeGroups_40-49</th>\n",
       "      <th>AgeGroups_50-59</th>\n",
       "      <th>AgeGroups_60-69</th>\n",
       "      <th>AgeGroups_70+</th>\n",
       "    </tr>\n",
       "  </thead>\n",
       "  <tbody>\n",
       "    <tr>\n",
       "      <th>0</th>\n",
       "      <td>Okwudilichukwu</td>\n",
       "      <td>0.146445</td>\n",
       "      <td>-0.576548</td>\n",
       "      <td>3</td>\n",
       "      <td>-0.899907</td>\n",
       "      <td>2</td>\n",
       "      <td>1.0</td>\n",
       "      <td>0.0</td>\n",
       "      <td>1.369440</td>\n",
       "      <td>0</td>\n",
       "      <td>...</td>\n",
       "      <td>0</td>\n",
       "      <td>0</td>\n",
       "      <td>0</td>\n",
       "      <td>1</td>\n",
       "      <td>0</td>\n",
       "      <td>1</td>\n",
       "      <td>0</td>\n",
       "      <td>0</td>\n",
       "      <td>0</td>\n",
       "      <td>0</td>\n",
       "    </tr>\n",
       "    <tr>\n",
       "      <th>1</th>\n",
       "      <td>Okwudiliolisa</td>\n",
       "      <td>-0.358786</td>\n",
       "      <td>-0.576548</td>\n",
       "      <td>1</td>\n",
       "      <td>-0.899907</td>\n",
       "      <td>2</td>\n",
       "      <td>1.0</td>\n",
       "      <td>1.0</td>\n",
       "      <td>-1.227153</td>\n",
       "      <td>0</td>\n",
       "      <td>...</td>\n",
       "      <td>0</td>\n",
       "      <td>0</td>\n",
       "      <td>0</td>\n",
       "      <td>1</td>\n",
       "      <td>0</td>\n",
       "      <td>1</td>\n",
       "      <td>0</td>\n",
       "      <td>0</td>\n",
       "      <td>0</td>\n",
       "      <td>0</td>\n",
       "    </tr>\n",
       "    <tr>\n",
       "      <th>2</th>\n",
       "      <td>Hsueh</td>\n",
       "      <td>0.269672</td>\n",
       "      <td>0.203873</td>\n",
       "      <td>10</td>\n",
       "      <td>-0.899907</td>\n",
       "      <td>2</td>\n",
       "      <td>1.0</td>\n",
       "      <td>0.0</td>\n",
       "      <td>1.436678</td>\n",
       "      <td>0</td>\n",
       "      <td>...</td>\n",
       "      <td>0</td>\n",
       "      <td>0</td>\n",
       "      <td>0</td>\n",
       "      <td>1</td>\n",
       "      <td>0</td>\n",
       "      <td>0</td>\n",
       "      <td>1</td>\n",
       "      <td>0</td>\n",
       "      <td>0</td>\n",
       "      <td>0</td>\n",
       "    </tr>\n",
       "    <tr>\n",
       "      <th>3</th>\n",
       "      <td>Kao</td>\n",
       "      <td>-0.925631</td>\n",
       "      <td>-0.465059</td>\n",
       "      <td>2</td>\n",
       "      <td>1.463969</td>\n",
       "      <td>1</td>\n",
       "      <td>1.0</td>\n",
       "      <td>1.0</td>\n",
       "      <td>-0.537254</td>\n",
       "      <td>0</td>\n",
       "      <td>...</td>\n",
       "      <td>0</td>\n",
       "      <td>0</td>\n",
       "      <td>0</td>\n",
       "      <td>1</td>\n",
       "      <td>0</td>\n",
       "      <td>1</td>\n",
       "      <td>0</td>\n",
       "      <td>0</td>\n",
       "      <td>0</td>\n",
       "      <td>0</td>\n",
       "    </tr>\n",
       "    <tr>\n",
       "      <th>4</th>\n",
       "      <td>Chiemenam</td>\n",
       "      <td>0.737936</td>\n",
       "      <td>-0.576548</td>\n",
       "      <td>5</td>\n",
       "      <td>-0.899907</td>\n",
       "      <td>2</td>\n",
       "      <td>1.0</td>\n",
       "      <td>1.0</td>\n",
       "      <td>-1.904797</td>\n",
       "      <td>0</td>\n",
       "      <td>...</td>\n",
       "      <td>0</td>\n",
       "      <td>1</td>\n",
       "      <td>0</td>\n",
       "      <td>1</td>\n",
       "      <td>0</td>\n",
       "      <td>1</td>\n",
       "      <td>0</td>\n",
       "      <td>0</td>\n",
       "      <td>0</td>\n",
       "      <td>0</td>\n",
       "    </tr>\n",
       "  </tbody>\n",
       "</table>\n",
       "<p>5 rows × 31 columns</p>\n",
       "</div>"
      ],
      "text/plain": [
       "          Surname  CreditScore       Age  Tenure   Balance  NumOfProducts  \\\n",
       "0  Okwudilichukwu     0.146445 -0.576548       3 -0.899907              2   \n",
       "1   Okwudiliolisa    -0.358786 -0.576548       1 -0.899907              2   \n",
       "2           Hsueh     0.269672  0.203873      10 -0.899907              2   \n",
       "3             Kao    -0.925631 -0.465059       2  1.463969              1   \n",
       "4       Chiemenam     0.737936 -0.576548       5 -0.899907              2   \n",
       "\n",
       "   HasCrCard  IsActiveMember  EstimatedSalary  Exited  ...  Geography_Germany  \\\n",
       "0        1.0             0.0         1.369440       0  ...                  0   \n",
       "1        1.0             1.0        -1.227153       0  ...                  0   \n",
       "2        1.0             0.0         1.436678       0  ...                  0   \n",
       "3        1.0             1.0        -0.537254       0  ...                  0   \n",
       "4        1.0             1.0        -1.904797       0  ...                  0   \n",
       "\n",
       "   Geography_Spain  Gender_Female  Gender_Male  AgeGroups_18-29  \\\n",
       "0                0              0            1                0   \n",
       "1                0              0            1                0   \n",
       "2                0              0            1                0   \n",
       "3                0              0            1                0   \n",
       "4                1              0            1                0   \n",
       "\n",
       "   AgeGroups_30-39  AgeGroups_40-49  AgeGroups_50-59  AgeGroups_60-69  \\\n",
       "0                1                0                0                0   \n",
       "1                1                0                0                0   \n",
       "2                0                1                0                0   \n",
       "3                1                0                0                0   \n",
       "4                1                0                0                0   \n",
       "\n",
       "   AgeGroups_70+  \n",
       "0              0  \n",
       "1              0  \n",
       "2              0  \n",
       "3              0  \n",
       "4              0  \n",
       "\n",
       "[5 rows x 31 columns]"
      ]
     },
     "execution_count": 37,
     "metadata": {},
     "output_type": "execute_result"
    }
   ],
   "source": [
    "scaler = StandardScaler()\n",
    "train_mod[NUM_FEATURES] = scaler.fit_transform(train[NUM_FEATURES])\n",
    "test_mod[NUM_FEATURES] = scaler.transform(test[NUM_FEATURES])\n",
    "\n",
    "train_mod.head()"
   ]
  },
  {
   "cell_type": "markdown",
   "id": "d2824319",
   "metadata": {},
   "source": [
    "### Model"
   ]
  },
  {
   "cell_type": "code",
   "execution_count": 38,
   "id": "7ba252ef",
   "metadata": {},
   "outputs": [
    {
     "data": {
      "text/plain": [
       "Index(['Surname', 'CreditScore', 'Age', 'Tenure', 'Balance', 'NumOfProducts',\n",
       "       'HasCrCard', 'IsActiveMember', 'EstimatedSalary', 'Exited',\n",
       "       'Surname_tfidf_0', 'Surname_tfidf_1', 'Surname_tfidf_2',\n",
       "       'Surname_tfidf_3', 'Surname_tfidf_4', 'CreditScoreGroup_Excellent',\n",
       "       'CreditScoreGroup_Fair', 'CreditScoreGroup_Good',\n",
       "       'CreditScoreGroup_Poor', 'CreditScoreGroup_VeryGood',\n",
       "       'Geography_France', 'Geography_Germany', 'Geography_Spain',\n",
       "       'Gender_Female', 'Gender_Male', 'AgeGroups_18-29', 'AgeGroups_30-39',\n",
       "       'AgeGroups_40-49', 'AgeGroups_50-59', 'AgeGroups_60-69',\n",
       "       'AgeGroups_70+'],\n",
       "      dtype='object')"
      ]
     },
     "execution_count": 38,
     "metadata": {},
     "output_type": "execute_result"
    }
   ],
   "source": [
    "train_mod.columns"
   ]
  },
  {
   "cell_type": "code",
   "execution_count": 74,
   "id": "6897a317",
   "metadata": {},
   "outputs": [
    {
     "data": {
      "text/html": [
       "<div>\n",
       "<style scoped>\n",
       "    .dataframe tbody tr th:only-of-type {\n",
       "        vertical-align: middle;\n",
       "    }\n",
       "\n",
       "    .dataframe tbody tr th {\n",
       "        vertical-align: top;\n",
       "    }\n",
       "\n",
       "    .dataframe thead th {\n",
       "        text-align: right;\n",
       "    }\n",
       "</style>\n",
       "<table border=\"1\" class=\"dataframe\">\n",
       "  <thead>\n",
       "    <tr style=\"text-align: right;\">\n",
       "      <th></th>\n",
       "      <th>CreditScore</th>\n",
       "      <th>Age</th>\n",
       "      <th>Tenure</th>\n",
       "      <th>Balance</th>\n",
       "      <th>NumOfProducts</th>\n",
       "      <th>HasCrCard</th>\n",
       "      <th>Surname_tfidf_0</th>\n",
       "      <th>Surname_tfidf_2</th>\n",
       "      <th>Surname_tfidf_3</th>\n",
       "      <th>Surname_tfidf_4</th>\n",
       "      <th>...</th>\n",
       "      <th>EstimatedSalary</th>\n",
       "      <th>Geography_France</th>\n",
       "      <th>Geography_Germany</th>\n",
       "      <th>Gender_Female</th>\n",
       "      <th>AgeGroups_18-29</th>\n",
       "      <th>AgeGroups_30-39</th>\n",
       "      <th>AgeGroups_40-49</th>\n",
       "      <th>AgeGroups_50-59</th>\n",
       "      <th>AgeGroups_60-69</th>\n",
       "      <th>AgeGroups_70+</th>\n",
       "    </tr>\n",
       "  </thead>\n",
       "  <tbody>\n",
       "    <tr>\n",
       "      <th>0</th>\n",
       "      <td>0.146445</td>\n",
       "      <td>-0.576548</td>\n",
       "      <td>3</td>\n",
       "      <td>-0.899907</td>\n",
       "      <td>2</td>\n",
       "      <td>1.0</td>\n",
       "      <td>1.049312e-07</td>\n",
       "      <td>-2.411914e-07</td>\n",
       "      <td>-0.000006</td>\n",
       "      <td>-8.768487e-07</td>\n",
       "      <td>...</td>\n",
       "      <td>1.369440</td>\n",
       "      <td>1</td>\n",
       "      <td>0</td>\n",
       "      <td>0</td>\n",
       "      <td>0</td>\n",
       "      <td>1</td>\n",
       "      <td>0</td>\n",
       "      <td>0</td>\n",
       "      <td>0</td>\n",
       "      <td>0</td>\n",
       "    </tr>\n",
       "    <tr>\n",
       "      <th>1</th>\n",
       "      <td>-0.358786</td>\n",
       "      <td>-0.576548</td>\n",
       "      <td>1</td>\n",
       "      <td>-0.899907</td>\n",
       "      <td>2</td>\n",
       "      <td>1.0</td>\n",
       "      <td>2.647820e-07</td>\n",
       "      <td>-1.105977e-06</td>\n",
       "      <td>-0.000021</td>\n",
       "      <td>7.071156e-06</td>\n",
       "      <td>...</td>\n",
       "      <td>-1.227153</td>\n",
       "      <td>1</td>\n",
       "      <td>0</td>\n",
       "      <td>0</td>\n",
       "      <td>0</td>\n",
       "      <td>1</td>\n",
       "      <td>0</td>\n",
       "      <td>0</td>\n",
       "      <td>0</td>\n",
       "      <td>0</td>\n",
       "    </tr>\n",
       "    <tr>\n",
       "      <th>2</th>\n",
       "      <td>0.269672</td>\n",
       "      <td>0.203873</td>\n",
       "      <td>10</td>\n",
       "      <td>-0.899907</td>\n",
       "      <td>2</td>\n",
       "      <td>1.0</td>\n",
       "      <td>-4.126977e-04</td>\n",
       "      <td>5.313976e-05</td>\n",
       "      <td>-0.028845</td>\n",
       "      <td>-8.773664e-03</td>\n",
       "      <td>...</td>\n",
       "      <td>1.436678</td>\n",
       "      <td>1</td>\n",
       "      <td>0</td>\n",
       "      <td>0</td>\n",
       "      <td>0</td>\n",
       "      <td>0</td>\n",
       "      <td>1</td>\n",
       "      <td>0</td>\n",
       "      <td>0</td>\n",
       "      <td>0</td>\n",
       "    </tr>\n",
       "    <tr>\n",
       "      <th>3</th>\n",
       "      <td>-0.925631</td>\n",
       "      <td>-0.465059</td>\n",
       "      <td>2</td>\n",
       "      <td>1.463969</td>\n",
       "      <td>1</td>\n",
       "      <td>1.0</td>\n",
       "      <td>7.087567e-04</td>\n",
       "      <td>-1.452825e-03</td>\n",
       "      <td>0.013256</td>\n",
       "      <td>1.802350e-02</td>\n",
       "      <td>...</td>\n",
       "      <td>-0.537254</td>\n",
       "      <td>1</td>\n",
       "      <td>0</td>\n",
       "      <td>0</td>\n",
       "      <td>0</td>\n",
       "      <td>1</td>\n",
       "      <td>0</td>\n",
       "      <td>0</td>\n",
       "      <td>0</td>\n",
       "      <td>0</td>\n",
       "    </tr>\n",
       "    <tr>\n",
       "      <th>4</th>\n",
       "      <td>0.737936</td>\n",
       "      <td>-0.576548</td>\n",
       "      <td>5</td>\n",
       "      <td>-0.899907</td>\n",
       "      <td>2</td>\n",
       "      <td>1.0</td>\n",
       "      <td>2.401101e-07</td>\n",
       "      <td>1.130171e-06</td>\n",
       "      <td>-0.000003</td>\n",
       "      <td>-1.548259e-06</td>\n",
       "      <td>...</td>\n",
       "      <td>-1.904797</td>\n",
       "      <td>0</td>\n",
       "      <td>0</td>\n",
       "      <td>0</td>\n",
       "      <td>0</td>\n",
       "      <td>1</td>\n",
       "      <td>0</td>\n",
       "      <td>0</td>\n",
       "      <td>0</td>\n",
       "      <td>0</td>\n",
       "    </tr>\n",
       "  </tbody>\n",
       "</table>\n",
       "<p>5 rows × 21 columns</p>\n",
       "</div>"
      ],
      "text/plain": [
       "   CreditScore       Age  Tenure   Balance  NumOfProducts  HasCrCard  \\\n",
       "0     0.146445 -0.576548       3 -0.899907              2        1.0   \n",
       "1    -0.358786 -0.576548       1 -0.899907              2        1.0   \n",
       "2     0.269672  0.203873      10 -0.899907              2        1.0   \n",
       "3    -0.925631 -0.465059       2  1.463969              1        1.0   \n",
       "4     0.737936 -0.576548       5 -0.899907              2        1.0   \n",
       "\n",
       "   Surname_tfidf_0  Surname_tfidf_2  Surname_tfidf_3  Surname_tfidf_4  ...  \\\n",
       "0     1.049312e-07    -2.411914e-07        -0.000006    -8.768487e-07  ...   \n",
       "1     2.647820e-07    -1.105977e-06        -0.000021     7.071156e-06  ...   \n",
       "2    -4.126977e-04     5.313976e-05        -0.028845    -8.773664e-03  ...   \n",
       "3     7.087567e-04    -1.452825e-03         0.013256     1.802350e-02  ...   \n",
       "4     2.401101e-07     1.130171e-06        -0.000003    -1.548259e-06  ...   \n",
       "\n",
       "   EstimatedSalary  Geography_France  Geography_Germany  Gender_Female  \\\n",
       "0         1.369440                 1                  0              0   \n",
       "1        -1.227153                 1                  0              0   \n",
       "2         1.436678                 1                  0              0   \n",
       "3        -0.537254                 1                  0              0   \n",
       "4        -1.904797                 0                  0              0   \n",
       "\n",
       "   AgeGroups_18-29  AgeGroups_30-39  AgeGroups_40-49  AgeGroups_50-59  \\\n",
       "0                0                1                0                0   \n",
       "1                0                1                0                0   \n",
       "2                0                0                1                0   \n",
       "3                0                1                0                0   \n",
       "4                0                1                0                0   \n",
       "\n",
       "   AgeGroups_60-69  AgeGroups_70+  \n",
       "0                0              0  \n",
       "1                0              0  \n",
       "2                0              0  \n",
       "3                0              0  \n",
       "4                0              0  \n",
       "\n",
       "[5 rows x 21 columns]"
      ]
     },
     "execution_count": 74,
     "metadata": {},
     "output_type": "execute_result"
    }
   ],
   "source": [
    "FEATURES = ['CreditScore', 'Age', 'Tenure', 'Balance', 'NumOfProducts',\n",
    "       'HasCrCard', 'IsActiveMember', 'EstimatedSalary',\n",
    "       'Surname_tfidf_0', 'Surname_tfidf_1', 'Surname_tfidf_2',\n",
    "       'Surname_tfidf_3', 'Surname_tfidf_4','Geography_France', 'Geography_Germany',\n",
    "       'Geography_Spain','Gender_Female', 'Gender_Male', 'AgeGroups_18-29',\n",
    "       'AgeGroups_30-39','AgeGroups_40-49', 'AgeGroups_50-59', 'AgeGroups_60-69',\n",
    "       'AgeGroups_70+']\n",
    "FEATURES = ['CreditScore', 'Age', 'Tenure', 'Balance', 'NumOfProducts', 'HasCrCard',\n",
    "            'Surname_tfidf_0', 'Surname_tfidf_2','Surname_tfidf_3', 'Surname_tfidf_4',\n",
    "            'IsActiveMember', 'EstimatedSalary', 'Geography_France', 'Geography_Germany',\n",
    "            'Gender_Female', 'AgeGroups_18-29', 'AgeGroups_30-39', 'AgeGroups_40-49', 'AgeGroups_50-59',\n",
    "            'AgeGroups_60-69', 'AgeGroups_70+']\n",
    "train_mod[FEATURES].head()"
   ]
  },
  {
   "cell_type": "code",
   "execution_count": 40,
   "id": "99d33752",
   "metadata": {},
   "outputs": [],
   "source": [
    "warnings.simplefilter('ignore')"
   ]
  },
  {
   "cell_type": "code",
   "execution_count": 55,
   "id": "94011433",
   "metadata": {},
   "outputs": [],
   "source": [
    "X, y = train_mod[FEATURES], train_mod[\"Exited\"]\n",
    "X_test = test_mod[FEATURES]"
   ]
  },
  {
   "cell_type": "markdown",
   "id": "a8aaf890",
   "metadata": {},
   "source": [
    "Running all models on train_test_split"
   ]
  },
  {
   "cell_type": "code",
   "execution_count": 56,
   "id": "99a48a14",
   "metadata": {},
   "outputs": [
    {
     "name": "stdout",
     "output_type": "stream",
     "text": [
      "Logistic Regression:\n",
      "Train AUC: 0.8243, Test AUC: 0.5007\n",
      "Train Accuracy: 0.8396, Test Accuracy: 0.7177\n",
      "\n",
      "Random Forest:\n",
      "Train AUC: 1.0000, Test AUC: 0.4980\n",
      "Train Accuracy: 0.9979, Test Accuracy: 0.6994\n",
      "\n",
      "XGBoost:\n",
      "Train AUC: 0.9213, Test AUC: 0.4981\n",
      "Train Accuracy: 0.8851, Test Accuracy: 0.6965\n"
     ]
    }
   ],
   "source": [
    "from sklearn.model_selection import train_test_split\n",
    "from sklearn.linear_model import LogisticRegression\n",
    "from sklearn.ensemble import RandomForestClassifier\n",
    "import xgboost as xgb\n",
    "from sklearn.metrics import roc_auc_score, accuracy_score\n",
    "\n",
    "X_train, X_test, y_train, y_test = train_test_split(X, y, test_size=0.5, random_state=42, stratify=y)\n",
    "\n",
    "# Logistic Regression\n",
    "logistic_model = LogisticRegression(random_state=42)\n",
    "logistic_model.fit(X_train, y_train)\n",
    "logistic_preds_train = logistic_model.predict_proba(X_train)[:, 1]\n",
    "logistic_preds_test = logistic_model.predict_proba(X_test)[:, 1]\n",
    "\n",
    "# Random Forest\n",
    "rf_model = RandomForestClassifier(random_state=42)\n",
    "rf_model.fit(X_train, y_train)\n",
    "rf_preds_train = rf_model.predict_proba(X_train)[:, 1]\n",
    "rf_preds_test = rf_model.predict_proba(X_test)[:, 1]\n",
    "\n",
    "# XGBoost\n",
    "xgb_model = xgb.XGBClassifier(random_state=42)\n",
    "xgb_model.fit(X_train, y_train)\n",
    "xgb_preds_train = xgb_model.predict_proba(X_train)[:, 1]\n",
    "xgb_preds_test = xgb_model.predict_proba(X_test)[:, 1]\n",
    "\n",
    "# Evaluate models\n",
    "def evaluate_model(predictions_train, predictions_test, y_true):\n",
    "    train_auc = roc_auc_score(y_true, predictions_train)\n",
    "    test_auc = roc_auc_score(y_true, predictions_test)\n",
    "    \n",
    "    train_accuracy = accuracy_score(y_true, (predictions_train > 0.5).astype(int))\n",
    "    test_accuracy = accuracy_score(y_true, (predictions_test > 0.5).astype(int))\n",
    "    \n",
    "    return train_auc, test_auc, train_accuracy, test_accuracy\n",
    "\n",
    "# Evaluate Logistic Regression\n",
    "logistic_train_auc, logistic_test_auc, logistic_train_accuracy, logistic_test_accuracy = evaluate_model(logistic_preds_train, logistic_preds_test, y_train)\n",
    "\n",
    "# Evaluate Random Forest\n",
    "rf_train_auc, rf_test_auc, rf_train_accuracy, rf_test_accuracy = evaluate_model(rf_preds_train, rf_preds_test, y_train)\n",
    "\n",
    "# Evaluate XGBoost\n",
    "xgb_train_auc, xgb_test_auc, xgb_train_accuracy, xgb_test_accuracy = evaluate_model(xgb_preds_train, xgb_preds_test, y_train)\n",
    "\n",
    "# Display results\n",
    "print(\"Logistic Regression:\")\n",
    "print(f\"Train AUC: {logistic_train_auc:.4f}, Test AUC: {logistic_test_auc:.4f}\")\n",
    "print(f\"Train Accuracy: {logistic_train_accuracy:.4f}, Test Accuracy: {logistic_test_accuracy:.4f}\")\n",
    "\n",
    "print(\"\\nRandom Forest:\")\n",
    "print(f\"Train AUC: {rf_train_auc:.4f}, Test AUC: {rf_test_auc:.4f}\")\n",
    "print(f\"Train Accuracy: {rf_train_accuracy:.4f}, Test Accuracy: {rf_test_accuracy:.4f}\")\n",
    "\n",
    "print(\"\\nXGBoost:\")\n",
    "print(f\"Train AUC: {xgb_train_auc:.4f}, Test AUC: {xgb_test_auc:.4f}\")\n",
    "print(f\"Train Accuracy: {xgb_train_accuracy:.4f}, Test Accuracy: {xgb_test_accuracy:.4f}\")\n"
   ]
  },
  {
   "cell_type": "markdown",
   "id": "93aeb86f",
   "metadata": {},
   "source": [
    "Data is highly imbalanced even stratify = y is not able to help much"
   ]
  },
  {
   "cell_type": "markdown",
   "id": "56d7f15a",
   "metadata": {},
   "source": [
    "using StratifiedKFold to remove this imbalance and get better validation score"
   ]
  },
  {
   "cell_type": "code",
   "execution_count": 57,
   "id": "6ef272ec",
   "metadata": {},
   "outputs": [],
   "source": [
    "X, y = train_mod[FEATURES], train_mod[\"Exited\"]\n",
    "X_test = test_mod[FEATURES]"
   ]
  },
  {
   "cell_type": "markdown",
   "id": "8e298785",
   "metadata": {},
   "source": [
    "#### Logistic Model"
   ]
  },
  {
   "cell_type": "code",
   "execution_count": 58,
   "id": "0f468ec7",
   "metadata": {},
   "outputs": [
    {
     "name": "stdout",
     "output_type": "stream",
     "text": [
      "0.8251194357686309\n"
     ]
    }
   ],
   "source": [
    "scores=[]\n",
    "logistic_model = LogisticRegression()\n",
    "cv = StratifiedKFold(n_splits=5, shuffle=True, random_state=42)\n",
    "cross_val_results = cross_val_score(estimator=logistic_model,X = X,y = y, cv=cv, scoring='roc_auc')\n",
    "print(np.mean(cross_val_results))\n",
    "\n",
    "logistic_model.fit(X,y)\n",
    "pred_logistic = logistic_model.predict_proba(X_test)"
   ]
  },
  {
   "cell_type": "markdown",
   "id": "a85579ed",
   "metadata": {},
   "source": [
    "#### Random Forest Model"
   ]
  },
  {
   "cell_type": "code",
   "execution_count": 59,
   "id": "1d062d08",
   "metadata": {},
   "outputs": [],
   "source": [
    "from sklearn.ensemble import RandomForestClassifier"
   ]
  },
  {
   "cell_type": "code",
   "execution_count": 60,
   "id": "e1fc96fc",
   "metadata": {},
   "outputs": [
    {
     "name": "stderr",
     "output_type": "stream",
     "text": [
      "[Parallel(n_jobs=1)]: Using backend SequentialBackend with 1 concurrent workers.\n",
      "[Parallel(n_jobs=1)]: Done   5 out of   5 | elapsed:  1.1min finished\n"
     ]
    },
    {
     "name": "stdout",
     "output_type": "stream",
     "text": [
      "0.8629792519498751\n"
     ]
    }
   ],
   "source": [
    "random_forest_model = RandomForestClassifier(n_estimators = 40,random_state=42)\n",
    "cv = StratifiedKFold(n_splits=5, shuffle=True, random_state=42)\n",
    "cross_val_results = cross_val_score(estimator=random_forest_model,X = X,y = y, cv=cv, scoring='roc_auc',verbose=True)\n",
    "                                     \n",
    "print(np.mean(cross_val_results))\n",
    "\n",
    "random_forest_model.fit(X,y)\n",
    "pred_random_forest = random_forest_model.predict_proba(X_test)"
   ]
  },
  {
   "cell_type": "markdown",
   "id": "cd0c4eff",
   "metadata": {},
   "source": [
    "#### XGBClassifier"
   ]
  },
  {
   "cell_type": "code",
   "execution_count": 61,
   "id": "f6176a7b",
   "metadata": {},
   "outputs": [],
   "source": [
    "import xgboost as xgb\n",
    "from sklearn.model_selection import StratifiedKFold\n",
    "from sklearn.metrics import roc_auc_score\n",
    "import optuna"
   ]
  },
  {
   "cell_type": "markdown",
   "id": "4199b51f",
   "metadata": {},
   "source": [
    "Hyperparamter Tuning and Validation"
   ]
  },
  {
   "cell_type": "code",
   "execution_count": 62,
   "id": "79963305",
   "metadata": {},
   "outputs": [
    {
     "name": "stderr",
     "output_type": "stream",
     "text": [
      "[I 2024-01-22 03:00:23,942] A new study created in memory with name: no-name-df143686-09bf-4c5f-9258-d49313f7e983\n"
     ]
    },
    {
     "name": "stdout",
     "output_type": "stream",
     "text": [
      "[0]\tvalidation_0-logloss:0.51296\n",
      "[111]\tvalidation_0-logloss:0.34465\n",
      "[Fold 1] Train score: 0.9055 | Val score: 0.8910\n",
      "[0]\tvalidation_0-logloss:0.51304\n",
      "[111]\tvalidation_0-logloss:0.34799\n",
      "[Fold 2] Train score: 0.9064 | Val score: 0.8858\n",
      "[0]\tvalidation_0-logloss:0.51296\n",
      "[111]\tvalidation_0-logloss:0.34591\n",
      "[Fold 3] Train score: 0.9063 | Val score: 0.8872\n",
      "[0]\tvalidation_0-logloss:0.51302\n",
      "[111]\tvalidation_0-logloss:0.34693\n",
      "[Fold 4] Train score: 0.9054 | Val score: 0.8888\n",
      "[0]\tvalidation_0-logloss:0.51308\n",
      "[111]\tvalidation_0-logloss:0.35283\n"
     ]
    },
    {
     "name": "stderr",
     "output_type": "stream",
     "text": [
      "[I 2024-01-22 03:00:47,533] Trial 0 finished with value: 0.8866184394251488 and parameters: {'max_depth': 10, 'learning_rate': 0.012816749656309127, 'n_estimators': 112, 'subsample': 0.7973969291681433, 'colsample_bytree': 0.7730693288062356, 'reg_alpha': 0.7963648404945882, 'reg_lambda': 0.8355844872691258}. Best is trial 0 with value: 0.8866184394251488.\n"
     ]
    },
    {
     "name": "stdout",
     "output_type": "stream",
     "text": [
      "[Fold 5] Train score: 0.9076 | Val score: 0.8804\n",
      "avg train score 0.906239, avg val score 0.8866\n",
      "[0]\tvalidation_0-logloss:0.51463\n",
      "[91]\tvalidation_0-logloss:0.36775\n",
      "[Fold 1] Train score: 0.8923 | Val score: 0.8827\n",
      "[0]\tvalidation_0-logloss:0.51471\n",
      "[91]\tvalidation_0-logloss:0.37003\n",
      "[Fold 2] Train score: 0.8935 | Val score: 0.8775\n",
      "[0]\tvalidation_0-logloss:0.51462\n",
      "[91]\tvalidation_0-logloss:0.36857\n",
      "[Fold 3] Train score: 0.8930 | Val score: 0.8783\n",
      "[0]\tvalidation_0-logloss:0.51466\n",
      "[91]\tvalidation_0-logloss:0.36963\n",
      "[Fold 4] Train score: 0.8926 | Val score: 0.8796\n",
      "[0]\tvalidation_0-logloss:0.51464\n",
      "[91]\tvalidation_0-logloss:0.37401\n"
     ]
    },
    {
     "name": "stderr",
     "output_type": "stream",
     "text": [
      "[I 2024-01-22 03:01:04,824] Trial 1 finished with value: 0.8780510926101972 and parameters: {'max_depth': 10, 'learning_rate': 0.01583785387238498, 'n_estimators': 92, 'subsample': 0.2541652657167841, 'colsample_bytree': 0.48680153209169863, 'reg_alpha': 0.23198767458882774, 'reg_lambda': 0.26143930750066247}. Best is trial 0 with value: 0.8866184394251488.\n"
     ]
    },
    {
     "name": "stdout",
     "output_type": "stream",
     "text": [
      "[Fold 5] Train score: 0.8943 | Val score: 0.8722\n",
      "avg train score 0.893125, avg val score 0.8781\n",
      "[0]\tvalidation_0-logloss:0.48392\n",
      "[118]\tvalidation_0-logloss:0.31741\n",
      "[Fold 1] Train score: 0.9073 | Val score: 0.8921\n",
      "[0]\tvalidation_0-logloss:0.48430\n",
      "[118]\tvalidation_0-logloss:0.32238\n",
      "[Fold 2] Train score: 0.9089 | Val score: 0.8872\n",
      "[0]\tvalidation_0-logloss:0.48380\n",
      "[126]\tvalidation_0-logloss:0.31945\n",
      "[Fold 3] Train score: 0.9095 | Val score: 0.8887\n",
      "[0]\tvalidation_0-logloss:0.48426\n",
      "[120]\tvalidation_0-logloss:0.32013\n",
      "[Fold 4] Train score: 0.9080 | Val score: 0.8899\n",
      "[0]\tvalidation_0-logloss:0.48444\n",
      "[125]\tvalidation_0-logloss:0.32827\n"
     ]
    },
    {
     "name": "stderr",
     "output_type": "stream",
     "text": [
      "[I 2024-01-22 03:01:22,267] Trial 2 finished with value: 0.8879409744854501 and parameters: {'max_depth': 8, 'learning_rate': 0.09712326009242553, 'n_estimators': 197, 'subsample': 0.7754057556249525, 'colsample_bytree': 0.6664204488783663, 'reg_alpha': 0.6406376056080703, 'reg_lambda': 0.45997365950972957}. Best is trial 2 with value: 0.8879409744854501.\n"
     ]
    },
    {
     "name": "stdout",
     "output_type": "stream",
     "text": [
      "[Fold 5] Train score: 0.9112 | Val score: 0.8818\n",
      "avg train score 0.908978, avg val score 0.8879\n",
      "[0]\tvalidation_0-logloss:0.48677\n",
      "[91]\tvalidation_0-logloss:0.31894\n",
      "[Fold 1] Train score: 0.9273 | Val score: 0.8907\n",
      "[0]\tvalidation_0-logloss:0.48712\n",
      "[91]\tvalidation_0-logloss:0.32442\n",
      "[Fold 2] Train score: 0.9240 | Val score: 0.8861\n",
      "[0]\tvalidation_0-logloss:0.48668\n",
      "[91]\tvalidation_0-logloss:0.32165\n",
      "[Fold 3] Train score: 0.9246 | Val score: 0.8873\n",
      "[0]\tvalidation_0-logloss:0.48714\n",
      "[91]\tvalidation_0-logloss:0.32272\n",
      "[Fold 4] Train score: 0.9255 | Val score: 0.8883\n",
      "[0]\tvalidation_0-logloss:0.48732\n",
      "[91]\tvalidation_0-logloss:0.33158\n"
     ]
    },
    {
     "name": "stderr",
     "output_type": "stream",
     "text": [
      "[I 2024-01-22 03:01:38,495] Trial 3 finished with value: 0.8863615735184066 and parameters: {'max_depth': 10, 'learning_rate': 0.08854109125520383, 'n_estimators': 92, 'subsample': 0.7253673990340261, 'colsample_bytree': 0.6822420344970399, 'reg_alpha': 0.15950093659049758, 'reg_lambda': 0.5926918477529771}. Best is trial 2 with value: 0.8879409744854501.\n"
     ]
    },
    {
     "name": "stdout",
     "output_type": "stream",
     "text": [
      "[Fold 5] Train score: 0.9261 | Val score: 0.8794\n",
      "avg train score 0.925508, avg val score 0.8864\n",
      "[0]\tvalidation_0-logloss:0.49961\n",
      "[111]\tvalidation_0-logloss:0.31651\n",
      "[Fold 1] Train score: 0.8934 | Val score: 0.8922\n",
      "[0]\tvalidation_0-logloss:0.49983\n",
      "[111]\tvalidation_0-logloss:0.32147\n",
      "[Fold 2] Train score: 0.8944 | Val score: 0.8875\n",
      "[0]\tvalidation_0-logloss:0.49904\n",
      "[111]\tvalidation_0-logloss:0.31853\n",
      "[Fold 3] Train score: 0.8940 | Val score: 0.8894\n",
      "[0]\tvalidation_0-logloss:0.49982\n",
      "[111]\tvalidation_0-logloss:0.31964\n",
      "[Fold 4] Train score: 0.8938 | Val score: 0.8901\n",
      "[0]\tvalidation_0-logloss:0.49972\n",
      "[111]\tvalidation_0-logloss:0.32709\n"
     ]
    },
    {
     "name": "stderr",
     "output_type": "stream",
     "text": [
      "[I 2024-01-22 03:01:52,457] Trial 4 finished with value: 0.8882582072653896 and parameters: {'max_depth': 6, 'learning_rate': 0.05259758051279791, 'n_estimators': 112, 'subsample': 0.828249726450023, 'colsample_bytree': 0.880671903282529, 'reg_alpha': 0.8182458651407676, 'reg_lambda': 0.7631476552189783}. Best is trial 4 with value: 0.8882582072653896.\n"
     ]
    },
    {
     "name": "stdout",
     "output_type": "stream",
     "text": [
      "[Fold 5] Train score: 0.8955 | Val score: 0.8821\n",
      "avg train score 0.894231, avg val score 0.8883\n",
      "Best Hyperparameters: {'max_depth': 6, 'learning_rate': 0.05259758051279791, 'n_estimators': 112, 'subsample': 0.828249726450023, 'colsample_bytree': 0.880671903282529, 'reg_alpha': 0.8182458651407676, 'reg_lambda': 0.7631476552189783}\n"
     ]
    }
   ],
   "source": [
    "def objective(trial, X, y, features, n_splits=5):\n",
    "    params = {\n",
    "        'objective': 'binary:logistic',\n",
    "        'eval_metric': 'logloss',\n",
    "        'max_depth': trial.suggest_int('max_depth', 5, 10),\n",
    "        'learning_rate': trial.suggest_float('learning_rate', 0.01, 0.1,log=True),\n",
    "        'n_estimators': trial.suggest_int('n_estimators', 50,200),\n",
    "        'subsample': trial.suggest_float('subsample', 0.2, 1.0),\n",
    "        'colsample_bytree': trial.suggest_float('colsample_bytree', 0.2, 1.0),\n",
    "        'reg_alpha': trial.suggest_float('reg_alpha', 0.0, 1.0),\n",
    "        'reg_lambda': trial.suggest_float('reg_lambda', 0.0, 1.0),\n",
    "        'random_state': 42}\n",
    "    \n",
    "    model = xgb.XGBClassifier(**params)\n",
    "    \n",
    "    train_scores = []\n",
    "    val_scores = []\n",
    "    \n",
    "    skf = StratifiedKFold(n_splits=n_splits)\n",
    "\n",
    "    for fold, (train_idx, val_idx) in enumerate(skf.split(X, y)):\n",
    "        \n",
    "        X_train, y_train = X.iloc[train_idx], y.iloc[train_idx]\n",
    "        X_val, y_val = X.iloc[val_idx], y.iloc[val_idx]\n",
    "\n",
    "        model.fit(X_train[features], y_train, \n",
    "                  eval_set=[(X_val[features], y_val)], \n",
    "                  verbose=500,\n",
    "                  early_stopping_rounds=50)  # Add early stopping for efficiency\n",
    "\n",
    "        train_preds = model.predict_proba(X_train[features])[:,1]\n",
    "        val_preds = model.predict_proba(X_val[features])[:,1]\n",
    "\n",
    "        train_score = roc_auc_score(y_train, train_preds)\n",
    "        val_score = roc_auc_score(y_val, val_preds)\n",
    "\n",
    "        print(f\"[Fold {fold+1}] Train score: {train_score:.4f} | Val score: {val_score:.4f}\")\n",
    "\n",
    "        train_scores.append(train_score)\n",
    "        val_scores.append(val_score)\n",
    "        \n",
    "    avg_val_score = np.mean(val_scores)\n",
    "    avg_train_score = np.mean(train_scores)\n",
    "    print(f\"avg train score {avg_train_score:4f}, avg val score {avg_val_score:.4f}\")\n",
    "    return avg_val_score\n",
    "\n",
    "def optimize_xgb_model(X, y, features, n_trials=5):\n",
    "    study = optuna.create_study(direction='maximize')\n",
    "    objective_func = lambda trial: objective(trial, X, y, features)\n",
    "    study.optimize(objective_func, n_trials=n_trials)\n",
    "\n",
    "    best_params = study.best_params\n",
    "    print(\"Best Hyperparameters:\", best_params)\n",
    "\n",
    "    return best_params\n",
    "\n",
    "\n",
    "best_params = optimize_xgb_model(X, y, FEATURES)\n"
   ]
  },
  {
   "cell_type": "code",
   "execution_count": 63,
   "id": "ecf9246e",
   "metadata": {},
   "outputs": [],
   "source": [
    "best_model = xgb.XGBClassifier(**best_params)\n",
    "best_model.fit(X, y)\n",
    "pred_xgb = best_model.predict_proba(X_test)"
   ]
  },
  {
   "cell_type": "markdown",
   "id": "b1bae156",
   "metadata": {},
   "source": [
    "### Model Performance and Feature Importance"
   ]
  },
  {
   "cell_type": "code",
   "execution_count": 64,
   "id": "dc95e7c0",
   "metadata": {},
   "outputs": [],
   "source": [
    "from sklearn.metrics import confusion_matrix, ConfusionMatrixDisplay"
   ]
  },
  {
   "cell_type": "code",
   "execution_count": 73,
   "id": "b6ef1b33",
   "metadata": {},
   "outputs": [
    {
     "data": {
      "image/png": "[encoded data removed]",
      "text/plain": [
       "<Figure size 640x480 with 2 Axes>"
      ]
     },
     "metadata": {},
     "output_type": "display_data"
    }
   ],
   "source": [
    "y_hat = np.argmax(random_forest_model.predict_proba(X),axis = 1)\n",
    "ConfusionMatrixDisplay.from_predictions(train_mod[\"Exited\"], \n",
    "                                        y_hat,\n",
    "                                        normalize='true',\n",
    "                                        display_labels=['0','1'])\n",
    "\n",
    "plt.show()"
   ]
  },
  {
   "cell_type": "code",
   "execution_count": 66,
   "id": "40349e00",
   "metadata": {},
   "outputs": [
    {
     "data": {
      "image/png": "[encoded data removed]",
      "text/plain": [
       "<Figure size 640x480 with 1 Axes>"
      ]
     },
     "metadata": {},
     "output_type": "display_data"
    },
    {
     "name": "stdout",
     "output_type": "stream",
     "text": [
      "XGB Classifier importances:['NumOfProducts', 'AgeGroups_40-49', 'Age', 'IsActiveMember', 'AgeGroups_18-29', 'AgeGroups_30-39', 'AgeGroups_50-59', 'Geography_Germany', 'AgeGroups_60-69', 'Balance', 'Gender_Female', 'Geography_France', 'HasCrCard', 'CreditScore', 'EstimatedSalary', 'Tenure', 'AgeGroups_70+']\n"
     ]
    }
   ],
   "source": [
    "xgb_feat_importances = pd.Series(best_model.feature_importances_, index=FEATURES)\n",
    "xgb_feat_importances.sort_values(ascending =False,inplace=True)\n",
    "\n",
    "xgb_feat_importances.plot(kind='barh',title='XGB Feature Importances')\n",
    "\n",
    "plt.tight_layout()\n",
    "plt.show()\n",
    "\n",
    "print(f\"XGB Classifier importances:{xgb_feat_importances.nlargest(99).index.tolist()}\")"
   ]
  },
  {
   "cell_type": "markdown",
   "id": "627e3772",
   "metadata": {},
   "source": [
    "### Submission"
   ]
  },
  {
   "cell_type": "code",
   "execution_count": 67,
   "id": "fc55a340",
   "metadata": {},
   "outputs": [
    {
     "data": {
      "text/html": [
       "<div>\n",
       "<style scoped>\n",
       "    .dataframe tbody tr th:only-of-type {\n",
       "        vertical-align: middle;\n",
       "    }\n",
       "\n",
       "    .dataframe tbody tr th {\n",
       "        vertical-align: top;\n",
       "    }\n",
       "\n",
       "    .dataframe thead th {\n",
       "        text-align: right;\n",
       "    }\n",
       "</style>\n",
       "<table border=\"1\" class=\"dataframe\">\n",
       "  <thead>\n",
       "    <tr style=\"text-align: right;\">\n",
       "      <th></th>\n",
       "      <th>id</th>\n",
       "      <th>Exited</th>\n",
       "      <th>Binary_Exited</th>\n",
       "    </tr>\n",
       "  </thead>\n",
       "  <tbody>\n",
       "    <tr>\n",
       "      <th>0</th>\n",
       "      <td>165034</td>\n",
       "      <td>0.021019</td>\n",
       "      <td>0</td>\n",
       "    </tr>\n",
       "    <tr>\n",
       "      <th>1</th>\n",
       "      <td>165035</td>\n",
       "      <td>0.827176</td>\n",
       "      <td>1</td>\n",
       "    </tr>\n",
       "    <tr>\n",
       "      <th>2</th>\n",
       "      <td>165036</td>\n",
       "      <td>0.028506</td>\n",
       "      <td>0</td>\n",
       "    </tr>\n",
       "    <tr>\n",
       "      <th>3</th>\n",
       "      <td>165037</td>\n",
       "      <td>0.226864</td>\n",
       "      <td>0</td>\n",
       "    </tr>\n",
       "    <tr>\n",
       "      <th>4</th>\n",
       "      <td>165038</td>\n",
       "      <td>0.345262</td>\n",
       "      <td>0</td>\n",
       "    </tr>\n",
       "    <tr>\n",
       "      <th>...</th>\n",
       "      <td>...</td>\n",
       "      <td>...</td>\n",
       "      <td>...</td>\n",
       "    </tr>\n",
       "    <tr>\n",
       "      <th>110018</th>\n",
       "      <td>275052</td>\n",
       "      <td>0.048757</td>\n",
       "      <td>0</td>\n",
       "    </tr>\n",
       "    <tr>\n",
       "      <th>110019</th>\n",
       "      <td>275053</td>\n",
       "      <td>0.107913</td>\n",
       "      <td>0</td>\n",
       "    </tr>\n",
       "    <tr>\n",
       "      <th>110020</th>\n",
       "      <td>275054</td>\n",
       "      <td>0.021987</td>\n",
       "      <td>0</td>\n",
       "    </tr>\n",
       "    <tr>\n",
       "      <th>110021</th>\n",
       "      <td>275055</td>\n",
       "      <td>0.145727</td>\n",
       "      <td>0</td>\n",
       "    </tr>\n",
       "    <tr>\n",
       "      <th>110022</th>\n",
       "      <td>275056</td>\n",
       "      <td>0.177488</td>\n",
       "      <td>0</td>\n",
       "    </tr>\n",
       "  </tbody>\n",
       "</table>\n",
       "<p>110023 rows × 3 columns</p>\n",
       "</div>"
      ],
      "text/plain": [
       "            id    Exited  Binary_Exited\n",
       "0       165034  0.021019              0\n",
       "1       165035  0.827176              1\n",
       "2       165036  0.028506              0\n",
       "3       165037  0.226864              0\n",
       "4       165038  0.345262              0\n",
       "...        ...       ...            ...\n",
       "110018  275052  0.048757              0\n",
       "110019  275053  0.107913              0\n",
       "110020  275054  0.021987              0\n",
       "110021  275055  0.145727              0\n",
       "110022  275056  0.177488              0\n",
       "\n",
       "[110023 rows x 3 columns]"
      ]
     },
     "execution_count": 67,
     "metadata": {},
     "output_type": "execute_result"
    }
   ],
   "source": [
    "sub = pd.DataFrame(test['id'])\n",
    "sub['Exited'] = pred_xgb[:,1]\n",
    "threshold = 0.5\n",
    "sub['Binary_Exited'] = (sub['Exited'] > threshold).astype(int)\n",
    "\n",
    "sub.to_csv('submission.csv',index = False)\n",
    "sub"
   ]
  },
  {
   "cell_type": "code",
   "execution_count": null,
   "id": "e3d89c98",
   "metadata": {},
   "outputs": [],
   "source": []
  }
 ],
 "metadata": {
  "kernelspec": {
   "display_name": "Python 3 (ipykernel)",
   "language": "python",
   "name": "python3"
  },
  "language_info": {
   "codemirror_mode": {
    "name": "ipython",
    "version": 3
   },
   "file_extension": ".py",
   "mimetype": "text/x-python",
   "name": "python",
   "nbconvert_exporter": "python",
   "pygments_lexer": "ipython3",
   "version": "3.11.3"
  }
 },
 "nbformat": 4,
 "nbformat_minor": 5
}
